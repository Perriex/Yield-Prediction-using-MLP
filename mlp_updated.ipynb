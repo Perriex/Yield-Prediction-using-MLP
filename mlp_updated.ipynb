{
 "cells": [
  {
   "cell_type": "code",
   "execution_count": 6,
   "metadata": {},
   "outputs": [],
   "source": [
    "\n",
    "# first neural network with keras tutorial\n",
    "import tensorflow as tf\n",
    "from tensorflow import keras\n",
    "from numpy import loadtxt\n",
    "from keras.models import Sequential\n",
    "from keras.layers import Dense\n",
    "#from keras.wrappers.scikit_learn import KerasRegressor\n",
    "from scikeras.wrappers import KerasClassifier, KerasRegressor\n",
    "from sklearn.model_selection import cross_val_score\n",
    "from sklearn.model_selection import KFold\n",
    "from sklearn.datasets import make_regression\n",
    "from sklearn.preprocessing import MinMaxScaler\n",
    "from sklearn.metrics import mean_absolute_error\n",
    "from numpy import asarray\n",
    "from numpy import unique\n",
    "from numpy import argmax\n",
    "import matplotlib.pyplot as plt\n",
    "import pandas as pd\n",
    "from sklearn.model_selection import train_test_split\n",
    "import numpy as np\n",
    "from tensorflow.keras.utils import plot_model\n",
    "from sklearn.preprocessing import StandardScaler\n",
    "#from keras.optimizers import SGD"
   ]
  },
  {
   "cell_type": "code",
   "execution_count": 8,
   "metadata": {},
   "outputs": [],
   "source": [
    "# load the dataset\n",
    "dataset = loadtxt('Data/datas.csv', delimiter=',') #('Dataset_transformAll.csv', delimiter=',') # #('Audrey_Dataset.csv', delimiter=',')\n",
    "# split into input (X) and output (y) variables\n",
    "#X = dataset[:,0:7]\n",
    "#y = dataset[:,7]"
   ]
  },
  {
   "cell_type": "code",
   "execution_count": 10,
   "metadata": {},
   "outputs": [],
   "source": [
    "###############################################################################################\n",
    "#Dataset transform: We change parameters with the Illinois dataset.\n",
    "#Future selection showed that Precipitation, Temperature max and min and Solar radiation are the factors that significantly impact the yield.\n",
    "#1. Normal dataset: Y=0.75, Yhat= 0.774, MAE = 0.00901\n",
    "#2. We changed the Solar radiation: Y=0.75, Yhat = 0.785, MAE= 0.01315\n",
    "#3. We changed the Precipitation: Y=0.75, Yhat = 0.788 , MAE= 0.01014\n",
    "#4. We changed the Min_Temperature: Y=0.75, Yhat = 0.773 , MAE= 0.01182\n",
    "#5. We changed the Max_Temperature: Y=0.75, Yhat = 0.763 , MAE= 0.02105\n",
    "#6. We changed All the 4 parameters: Y=0.75, Yhat = 0.771 , MAE= 0.01477\n",
    "###############################################################################################\n"
   ]
  },
  {
   "cell_type": "code",
   "execution_count": 12,
   "metadata": {},
   "outputs": [],
   "source": [
    "#EXERCICE3\n",
    "\n",
    "X, y = make_regression(n_samples=181, n_features=7, noise=0.1, random_state=1)\n",
    "n_train = 75\n",
    "trainX, testX = X[:n_train, :], X[n_train:, :]\n",
    "trainy, testy = y[:n_train], y[n_train:]\n",
    "\n",
    "trainy = trainy.reshape(len(trainy), 1)\n",
    "testy = testy.reshape(len(testy), 1)\n",
    "# created scaler\n",
    "scaler = StandardScaler()\n",
    "# fit scaler on training dataset\n",
    "scaler.fit(trainy)\n",
    "# transform training dataset\n",
    "trainy = scaler.transform(trainy)\n",
    "# transform test dataset\n",
    "testy = scaler.transform(testy) "
   ]
  },
  {
   "cell_type": "code",
   "execution_count": 14,
   "metadata": {},
   "outputs": [
    {
     "name": "stderr",
     "output_type": "stream",
     "text": [
      "H:\\Anaconda\\Lib\\site-packages\\keras\\src\\layers\\core\\dense.py:87: UserWarning: Do not pass an `input_shape`/`input_dim` argument to a layer. When using Sequential models, prefer using an `Input(shape)` object as the first layer in the model instead.\n",
      "  super().__init__(activity_regularizer=activity_regularizer, **kwargs)\n"
     ]
    }
   ],
   "source": [
    "#EXERCICE3\n",
    "model = Sequential()\n",
    "model.add(Dense(20, input_dim=7, activation='relu', kernel_initializer='normal'))\n",
    "model.add(Dense(1, kernel_initializer='normal', activation='linear'))\n"
   ]
  },
  {
   "cell_type": "code",
   "execution_count": 16,
   "metadata": {},
   "outputs": [
    {
     "data": {
      "text/html": [
       "<pre style=\"white-space:pre;overflow-x:auto;line-height:normal;font-family:Menlo,'DejaVu Sans Mono',consolas,'Courier New',monospace\"><span style=\"font-weight: bold\">Model: \"sequential\"</span>\n",
       "</pre>\n"
      ],
      "text/plain": [
       "\u001b[1mModel: \"sequential\"\u001b[0m\n"
      ]
     },
     "metadata": {},
     "output_type": "display_data"
    },
    {
     "data": {
      "text/html": [
       "<pre style=\"white-space:pre;overflow-x:auto;line-height:normal;font-family:Menlo,'DejaVu Sans Mono',consolas,'Courier New',monospace\">┏━━━━━━━━━━━━━━━━━━━━━━━━━━━━━━━━━┳━━━━━━━━━━━━━━━━━━━━━━━━┳━━━━━━━━━━━━━━━┓\n",
       "┃<span style=\"font-weight: bold\"> Layer (type)                    </span>┃<span style=\"font-weight: bold\"> Output Shape           </span>┃<span style=\"font-weight: bold\">       Param # </span>┃\n",
       "┡━━━━━━━━━━━━━━━━━━━━━━━━━━━━━━━━━╇━━━━━━━━━━━━━━━━━━━━━━━━╇━━━━━━━━━━━━━━━┩\n",
       "│ dense (<span style=\"color: #0087ff; text-decoration-color: #0087ff\">Dense</span>)                   │ (<span style=\"color: #00d7ff; text-decoration-color: #00d7ff\">None</span>, <span style=\"color: #00af00; text-decoration-color: #00af00\">20</span>)             │           <span style=\"color: #00af00; text-decoration-color: #00af00\">160</span> │\n",
       "├─────────────────────────────────┼────────────────────────┼───────────────┤\n",
       "│ dense_1 (<span style=\"color: #0087ff; text-decoration-color: #0087ff\">Dense</span>)                 │ (<span style=\"color: #00d7ff; text-decoration-color: #00d7ff\">None</span>, <span style=\"color: #00af00; text-decoration-color: #00af00\">1</span>)              │            <span style=\"color: #00af00; text-decoration-color: #00af00\">21</span> │\n",
       "└─────────────────────────────────┴────────────────────────┴───────────────┘\n",
       "</pre>\n"
      ],
      "text/plain": [
       "┏━━━━━━━━━━━━━━━━━━━━━━━━━━━━━━━━━┳━━━━━━━━━━━━━━━━━━━━━━━━┳━━━━━━━━━━━━━━━┓\n",
       "┃\u001b[1m \u001b[0m\u001b[1mLayer (type)                   \u001b[0m\u001b[1m \u001b[0m┃\u001b[1m \u001b[0m\u001b[1mOutput Shape          \u001b[0m\u001b[1m \u001b[0m┃\u001b[1m \u001b[0m\u001b[1m      Param #\u001b[0m\u001b[1m \u001b[0m┃\n",
       "┡━━━━━━━━━━━━━━━━━━━━━━━━━━━━━━━━━╇━━━━━━━━━━━━━━━━━━━━━━━━╇━━━━━━━━━━━━━━━┩\n",
       "│ dense (\u001b[38;5;33mDense\u001b[0m)                   │ (\u001b[38;5;45mNone\u001b[0m, \u001b[38;5;34m20\u001b[0m)             │           \u001b[38;5;34m160\u001b[0m │\n",
       "├─────────────────────────────────┼────────────────────────┼───────────────┤\n",
       "│ dense_1 (\u001b[38;5;33mDense\u001b[0m)                 │ (\u001b[38;5;45mNone\u001b[0m, \u001b[38;5;34m1\u001b[0m)              │            \u001b[38;5;34m21\u001b[0m │\n",
       "└─────────────────────────────────┴────────────────────────┴───────────────┘\n"
      ]
     },
     "metadata": {},
     "output_type": "display_data"
    },
    {
     "data": {
      "text/html": [
       "<pre style=\"white-space:pre;overflow-x:auto;line-height:normal;font-family:Menlo,'DejaVu Sans Mono',consolas,'Courier New',monospace\"><span style=\"font-weight: bold\"> Total params: </span><span style=\"color: #00af00; text-decoration-color: #00af00\">181</span> (724.00 B)\n",
       "</pre>\n"
      ],
      "text/plain": [
       "\u001b[1m Total params: \u001b[0m\u001b[38;5;34m181\u001b[0m (724.00 B)\n"
      ]
     },
     "metadata": {},
     "output_type": "display_data"
    },
    {
     "data": {
      "text/html": [
       "<pre style=\"white-space:pre;overflow-x:auto;line-height:normal;font-family:Menlo,'DejaVu Sans Mono',consolas,'Courier New',monospace\"><span style=\"font-weight: bold\"> Trainable params: </span><span style=\"color: #00af00; text-decoration-color: #00af00\">181</span> (724.00 B)\n",
       "</pre>\n"
      ],
      "text/plain": [
       "\u001b[1m Trainable params: \u001b[0m\u001b[38;5;34m181\u001b[0m (724.00 B)\n"
      ]
     },
     "metadata": {},
     "output_type": "display_data"
    },
    {
     "data": {
      "text/html": [
       "<pre style=\"white-space:pre;overflow-x:auto;line-height:normal;font-family:Menlo,'DejaVu Sans Mono',consolas,'Courier New',monospace\"><span style=\"font-weight: bold\"> Non-trainable params: </span><span style=\"color: #00af00; text-decoration-color: #00af00\">0</span> (0.00 B)\n",
       "</pre>\n"
      ],
      "text/plain": [
       "\u001b[1m Non-trainable params: \u001b[0m\u001b[38;5;34m0\u001b[0m (0.00 B)\n"
      ]
     },
     "metadata": {},
     "output_type": "display_data"
    },
    {
     "name": "stdout",
     "output_type": "stream",
     "text": [
      "None\n"
     ]
    }
   ],
   "source": [
    "#EXERCICE 3\n",
    "print(model.summary())"
   ]
  },
  {
   "cell_type": "code",
   "execution_count": 18,
   "metadata": {},
   "outputs": [
    {
     "name": "stderr",
     "output_type": "stream",
     "text": [
      "H:\\Anaconda\\Lib\\site-packages\\keras\\src\\optimizers\\base_optimizer.py:86: UserWarning: Argument `decay` is no longer supported and will be ignored.\n",
      "  warnings.warn(\n"
     ]
    }
   ],
   "source": [
    "#EXERCICE 3\n",
    "# compile model\n",
    "sgd = tf.keras.optimizers.SGD(learning_rate=0.01, decay=0.0, momentum=0.7, nesterov=False)\n",
    "model.compile(loss='mean_squared_error', optimizer=sgd)"
   ]
  },
  {
   "cell_type": "code",
   "execution_count": 20,
   "metadata": {},
   "outputs": [
    {
     "name": "stdout",
     "output_type": "stream",
     "text": [
      "Epoch 1/100\n",
      "3/3 - 0s - 130ms/step - loss: 0.9900 - val_loss: 0.5947\n",
      "Epoch 2/100\n",
      "3/3 - 0s - 13ms/step - loss: 0.9813 - val_loss: 0.5870\n",
      "Epoch 3/100\n",
      "3/3 - 0s - 12ms/step - loss: 0.9694 - val_loss: 0.5776\n",
      "Epoch 4/100\n",
      "3/3 - 0s - 12ms/step - loss: 0.9533 - val_loss: 0.5679\n",
      "Epoch 5/100\n",
      "3/3 - 0s - 12ms/step - loss: 0.9356 - val_loss: 0.5563\n",
      "Epoch 6/100\n",
      "3/3 - 0s - 12ms/step - loss: 0.9131 - val_loss: 0.5405\n",
      "Epoch 7/100\n",
      "3/3 - 0s - 12ms/step - loss: 0.8882 - val_loss: 0.5253\n",
      "Epoch 8/100\n",
      "3/3 - 0s - 12ms/step - loss: 0.8565 - val_loss: 0.5095\n",
      "Epoch 9/100\n",
      "3/3 - 0s - 12ms/step - loss: 0.8174 - val_loss: 0.4912\n",
      "Epoch 10/100\n",
      "3/3 - 0s - 12ms/step - loss: 0.7795 - val_loss: 0.4661\n",
      "Epoch 11/100\n",
      "3/3 - 0s - 12ms/step - loss: 0.7292 - val_loss: 0.4334\n",
      "Epoch 12/100\n",
      "3/3 - 0s - 12ms/step - loss: 0.6698 - val_loss: 0.3996\n",
      "Epoch 13/100\n",
      "3/3 - 0s - 12ms/step - loss: 0.6082 - val_loss: 0.3574\n",
      "Epoch 14/100\n",
      "3/3 - 0s - 12ms/step - loss: 0.5374 - val_loss: 0.3161\n",
      "Epoch 15/100\n",
      "3/3 - 0s - 12ms/step - loss: 0.4670 - val_loss: 0.2715\n",
      "Epoch 16/100\n",
      "3/3 - 0s - 12ms/step - loss: 0.3945 - val_loss: 0.2271\n",
      "Epoch 17/100\n",
      "3/3 - 0s - 12ms/step - loss: 0.3175 - val_loss: 0.1806\n",
      "Epoch 18/100\n",
      "3/3 - 0s - 12ms/step - loss: 0.2470 - val_loss: 0.1443\n",
      "Epoch 19/100\n",
      "3/3 - 0s - 12ms/step - loss: 0.1896 - val_loss: 0.1131\n",
      "Epoch 20/100\n",
      "3/3 - 0s - 12ms/step - loss: 0.1443 - val_loss: 0.0876\n",
      "Epoch 21/100\n",
      "3/3 - 0s - 12ms/step - loss: 0.1078 - val_loss: 0.0706\n",
      "Epoch 22/100\n",
      "3/3 - 0s - 12ms/step - loss: 0.0817 - val_loss: 0.0580\n",
      "Epoch 23/100\n",
      "3/3 - 0s - 13ms/step - loss: 0.0649 - val_loss: 0.0485\n",
      "Epoch 24/100\n",
      "3/3 - 0s - 13ms/step - loss: 0.0530 - val_loss: 0.0408\n",
      "Epoch 25/100\n",
      "3/3 - 0s - 13ms/step - loss: 0.0441 - val_loss: 0.0350\n",
      "Epoch 26/100\n",
      "3/3 - 0s - 13ms/step - loss: 0.0377 - val_loss: 0.0308\n",
      "Epoch 27/100\n",
      "3/3 - 0s - 13ms/step - loss: 0.0327 - val_loss: 0.0273\n",
      "Epoch 28/100\n",
      "3/3 - 0s - 13ms/step - loss: 0.0290 - val_loss: 0.0245\n",
      "Epoch 29/100\n",
      "3/3 - 0s - 13ms/step - loss: 0.0258 - val_loss: 0.0223\n",
      "Epoch 30/100\n",
      "3/3 - 0s - 13ms/step - loss: 0.0238 - val_loss: 0.0204\n",
      "Epoch 31/100\n",
      "3/3 - 0s - 13ms/step - loss: 0.0218 - val_loss: 0.0186\n",
      "Epoch 32/100\n",
      "3/3 - 0s - 13ms/step - loss: 0.0205 - val_loss: 0.0173\n",
      "Epoch 33/100\n",
      "3/3 - 0s - 12ms/step - loss: 0.0190 - val_loss: 0.0161\n",
      "Epoch 34/100\n",
      "3/3 - 0s - 13ms/step - loss: 0.0181 - val_loss: 0.0151\n",
      "Epoch 35/100\n",
      "3/3 - 0s - 13ms/step - loss: 0.0170 - val_loss: 0.0145\n",
      "Epoch 36/100\n",
      "3/3 - 0s - 13ms/step - loss: 0.0162 - val_loss: 0.0141\n",
      "Epoch 37/100\n",
      "3/3 - 0s - 13ms/step - loss: 0.0156 - val_loss: 0.0137\n",
      "Epoch 38/100\n",
      "3/3 - 0s - 13ms/step - loss: 0.0148 - val_loss: 0.0132\n",
      "Epoch 39/100\n",
      "3/3 - 0s - 13ms/step - loss: 0.0142 - val_loss: 0.0127\n",
      "Epoch 40/100\n",
      "3/3 - 0s - 13ms/step - loss: 0.0138 - val_loss: 0.0122\n",
      "Epoch 41/100\n",
      "3/3 - 0s - 12ms/step - loss: 0.0133 - val_loss: 0.0120\n",
      "Epoch 42/100\n",
      "3/3 - 0s - 12ms/step - loss: 0.0130 - val_loss: 0.0117\n",
      "Epoch 43/100\n",
      "3/3 - 0s - 12ms/step - loss: 0.0127 - val_loss: 0.0115\n",
      "Epoch 44/100\n",
      "3/3 - 0s - 13ms/step - loss: 0.0124 - val_loss: 0.0113\n",
      "Epoch 45/100\n",
      "3/3 - 0s - 13ms/step - loss: 0.0121 - val_loss: 0.0110\n",
      "Epoch 46/100\n",
      "3/3 - 0s - 14ms/step - loss: 0.0119 - val_loss: 0.0109\n",
      "Epoch 47/100\n",
      "3/3 - 0s - 13ms/step - loss: 0.0117 - val_loss: 0.0108\n",
      "Epoch 48/100\n",
      "3/3 - 0s - 13ms/step - loss: 0.0115 - val_loss: 0.0107\n",
      "Epoch 49/100\n",
      "3/3 - 0s - 13ms/step - loss: 0.0113 - val_loss: 0.0106\n",
      "Epoch 50/100\n",
      "3/3 - 0s - 12ms/step - loss: 0.0112 - val_loss: 0.0105\n",
      "Epoch 51/100\n",
      "3/3 - 0s - 12ms/step - loss: 0.0110 - val_loss: 0.0104\n",
      "Epoch 52/100\n",
      "3/3 - 0s - 12ms/step - loss: 0.0109 - val_loss: 0.0103\n",
      "Epoch 53/100\n",
      "3/3 - 0s - 13ms/step - loss: 0.0106 - val_loss: 0.0104\n",
      "Epoch 54/100\n",
      "3/3 - 0s - 12ms/step - loss: 0.0105 - val_loss: 0.0104\n",
      "Epoch 55/100\n",
      "3/3 - 0s - 12ms/step - loss: 0.0102 - val_loss: 0.0103\n",
      "Epoch 56/100\n",
      "3/3 - 0s - 12ms/step - loss: 0.0100 - val_loss: 0.0101\n",
      "Epoch 57/100\n",
      "3/3 - 0s - 12ms/step - loss: 0.0099 - val_loss: 0.0101\n",
      "Epoch 58/100\n",
      "3/3 - 0s - 12ms/step - loss: 0.0098 - val_loss: 0.0101\n",
      "Epoch 59/100\n",
      "3/3 - 0s - 13ms/step - loss: 0.0096 - val_loss: 0.0101\n",
      "Epoch 60/100\n",
      "3/3 - 0s - 12ms/step - loss: 0.0095 - val_loss: 0.0100\n",
      "Epoch 61/100\n",
      "3/3 - 0s - 13ms/step - loss: 0.0094 - val_loss: 0.0097\n",
      "Epoch 62/100\n",
      "3/3 - 0s - 12ms/step - loss: 0.0093 - val_loss: 0.0096\n",
      "Epoch 63/100\n",
      "3/3 - 0s - 13ms/step - loss: 0.0091 - val_loss: 0.0094\n",
      "Epoch 64/100\n",
      "3/3 - 0s - 13ms/step - loss: 0.0090 - val_loss: 0.0093\n",
      "Epoch 65/100\n",
      "3/3 - 0s - 13ms/step - loss: 0.0089 - val_loss: 0.0093\n",
      "Epoch 66/100\n",
      "3/3 - 0s - 13ms/step - loss: 0.0089 - val_loss: 0.0095\n",
      "Epoch 67/100\n",
      "3/3 - 0s - 13ms/step - loss: 0.0087 - val_loss: 0.0095\n",
      "Epoch 68/100\n",
      "3/3 - 0s - 13ms/step - loss: 0.0084 - val_loss: 0.0096\n",
      "Epoch 69/100\n",
      "3/3 - 0s - 12ms/step - loss: 0.0084 - val_loss: 0.0096\n",
      "Epoch 70/100\n",
      "3/3 - 0s - 12ms/step - loss: 0.0082 - val_loss: 0.0095\n",
      "Epoch 71/100\n",
      "3/3 - 0s - 12ms/step - loss: 0.0082 - val_loss: 0.0094\n",
      "Epoch 72/100\n",
      "3/3 - 0s - 13ms/step - loss: 0.0080 - val_loss: 0.0093\n",
      "Epoch 73/100\n",
      "3/3 - 0s - 13ms/step - loss: 0.0079 - val_loss: 0.0091\n",
      "Epoch 74/100\n",
      "3/3 - 0s - 12ms/step - loss: 0.0078 - val_loss: 0.0090\n",
      "Epoch 75/100\n",
      "3/3 - 0s - 12ms/step - loss: 0.0076 - val_loss: 0.0090\n",
      "Epoch 76/100\n",
      "3/3 - 0s - 13ms/step - loss: 0.0075 - val_loss: 0.0090\n",
      "Epoch 77/100\n",
      "3/3 - 0s - 13ms/step - loss: 0.0074 - val_loss: 0.0089\n",
      "Epoch 78/100\n",
      "3/3 - 0s - 13ms/step - loss: 0.0074 - val_loss: 0.0088\n",
      "Epoch 79/100\n",
      "3/3 - 0s - 13ms/step - loss: 0.0072 - val_loss: 0.0088\n",
      "Epoch 80/100\n",
      "3/3 - 0s - 13ms/step - loss: 0.0072 - val_loss: 0.0087\n",
      "Epoch 81/100\n",
      "3/3 - 0s - 12ms/step - loss: 0.0070 - val_loss: 0.0084\n",
      "Epoch 82/100\n",
      "3/3 - 0s - 13ms/step - loss: 0.0070 - val_loss: 0.0082\n",
      "Epoch 83/100\n",
      "3/3 - 0s - 13ms/step - loss: 0.0068 - val_loss: 0.0081\n",
      "Epoch 84/100\n",
      "3/3 - 0s - 12ms/step - loss: 0.0068 - val_loss: 0.0082\n",
      "Epoch 85/100\n",
      "3/3 - 0s - 12ms/step - loss: 0.0067 - val_loss: 0.0083\n",
      "Epoch 86/100\n",
      "3/3 - 0s - 13ms/step - loss: 0.0066 - val_loss: 0.0083\n",
      "Epoch 87/100\n",
      "3/3 - 0s - 12ms/step - loss: 0.0065 - val_loss: 0.0082\n",
      "Epoch 88/100\n",
      "3/3 - 0s - 13ms/step - loss: 0.0064 - val_loss: 0.0081\n",
      "Epoch 89/100\n",
      "3/3 - 0s - 13ms/step - loss: 0.0063 - val_loss: 0.0080\n",
      "Epoch 90/100\n",
      "3/3 - 0s - 13ms/step - loss: 0.0062 - val_loss: 0.0081\n",
      "Epoch 91/100\n",
      "3/3 - 0s - 13ms/step - loss: 0.0062 - val_loss: 0.0082\n",
      "Epoch 92/100\n",
      "3/3 - 0s - 35ms/step - loss: 0.0061 - val_loss: 0.0081\n",
      "Epoch 93/100\n",
      "3/3 - 0s - 15ms/step - loss: 0.0060 - val_loss: 0.0080\n",
      "Epoch 94/100\n",
      "3/3 - 0s - 17ms/step - loss: 0.0059 - val_loss: 0.0079\n",
      "Epoch 95/100\n",
      "3/3 - 0s - 14ms/step - loss: 0.0058 - val_loss: 0.0077\n",
      "Epoch 96/100\n",
      "3/3 - 0s - 12ms/step - loss: 0.0058 - val_loss: 0.0076\n",
      "Epoch 97/100\n",
      "3/3 - 0s - 12ms/step - loss: 0.0057 - val_loss: 0.0076\n",
      "Epoch 98/100\n",
      "3/3 - 0s - 12ms/step - loss: 0.0056 - val_loss: 0.0075\n",
      "Epoch 99/100\n",
      "3/3 - 0s - 12ms/step - loss: 0.0056 - val_loss: 0.0075\n",
      "Epoch 100/100\n",
      "3/3 - 0s - 12ms/step - loss: 0.0055 - val_loss: 0.0074\n"
     ]
    }
   ],
   "source": [
    "#EXERCICE 3\n",
    "# fit model\n",
    "history = model.fit(trainX, trainy, validation_data=(testX, testy), epochs=100, verbose=2)"
   ]
  },
  {
   "cell_type": "code",
   "execution_count": 22,
   "metadata": {},
   "outputs": [],
   "source": [
    "#EXERCICE 3\n",
    "# evaluate the model\n",
    "train_mse = model.evaluate(trainX, trainy, verbose=0)\n",
    "test_mse = model.evaluate(testX, testy, verbose=0)"
   ]
  },
  {
   "cell_type": "code",
   "execution_count": 24,
   "metadata": {},
   "outputs": [
    {
     "name": "stdout",
     "output_type": "stream",
     "text": [
      "Train: 0.005, Test: 0.007\n"
     ]
    },
    {
     "data": {
      "image/png": "[encoded data removed]",
      "text/plain": [
       "<Figure size 640x480 with 1 Axes>"
      ]
     },
     "metadata": {},
     "output_type": "display_data"
    }
   ],
   "source": [
    "#EXERCICE 3\n",
    "print('Train: %.3f, Test: %.3f' % (train_mse, test_mse))\n",
    "# plot loss during training\n",
    "plt.title('Loss / Mean Squared Error')\n",
    "plt.plot(history.history['loss'], 'g',label='Training loss')\n",
    "plt.plot(history.history['val_loss'], 'b', label='validation loss')\n",
    "plt.title('Learning Curves')\n",
    "plt.xlabel('Epochs')\n",
    "plt.ylabel('Loss')\n",
    "plt.legend()\n",
    "plt.show()\n"
   ]
  },
  {
   "cell_type": "code",
   "execution_count": 11,
   "metadata": {},
   "outputs": [],
   "source": [
    "# # #ESSAI 3  -----OK##################################################\n",
    "X = dataset[:,0:7]\n",
    "y = dataset[:,7]\n",
    "scalarX, scalarY = MinMaxScaler(feature_range=(0,1)), MinMaxScaler(feature_range=(0,0.75))\n",
    "scalarX.fit(X)\n",
    "scalarY.fit(y.reshape(94,1)) \n",
    "X = scalarX.transform(X)\n",
    "y=np.array(y).reshape(94,1) \n",
    "y = scalarY.transform(y) "
   ]
  },
  {
   "cell_type": "code",
   "execution_count": 19,
   "metadata": {},
   "outputs": [],
   "source": [
    "#print(y)"
   ]
  },
  {
   "cell_type": "code",
   "execution_count": 20,
   "metadata": {},
   "outputs": [
    {
     "name": "stdout",
     "output_type": "stream",
     "text": [
      "Model: \"sequential_3\"\n",
      "_________________________________________________________________\n",
      " Layer (type)                Output Shape              Param #   \n",
      "=================================================================\n",
      " dense_6 (Dense)             (None, 20)                160       \n",
      "                                                                 \n",
      " dense_7 (Dense)             (None, 1)                 21        \n",
      "                                                                 \n",
      "=================================================================\n",
      "Total params: 181\n",
      "Trainable params: 181\n",
      "Non-trainable params: 0\n",
      "_________________________________________________________________\n",
      "None\n"
     ]
    }
   ],
   "source": [
    "# define the keras model ####OK\n",
    "model = Sequential()\n",
    "model.add(Dense(20, input_dim=7, kernel_initializer='normal', activation='relu')) #kernel_initializer='normal'\n",
    "model.add(Dense(1, kernel_initializer='normal', activation='linear')) #linear\n",
    "print(model.summary())"
   ]
  },
  {
   "cell_type": "code",
   "execution_count": 21,
   "metadata": {},
   "outputs": [],
   "source": [
    "sgd = tf.keras.optimizers.SGD(learning_rate=0.01, decay=0.0, momentum=0.7, nesterov=False) ####OK\n",
    "#adam=tf.keras.optimizers.Adam(learning_rate=0.01, beta_1=0.9, beta_2=0.999, epsilon=1e-8)\n",
    "model.compile(optimizer=sgd, loss='mean_absolute_error')"
   ]
  },
  {
   "cell_type": "code",
   "execution_count": 22,
   "metadata": {},
   "outputs": [
    {
     "name": "stdout",
     "output_type": "stream",
     "text": [
      "Epoch 1/100\n",
      "19/19 - 0s - loss: 0.0777 - val_loss: 0.6366 - 401ms/epoch - 21ms/step\n",
      "Epoch 2/100\n",
      "19/19 - 0s - loss: 0.0781 - val_loss: 0.6194 - 69ms/epoch - 4ms/step\n",
      "Epoch 3/100\n",
      "19/19 - 0s - loss: 0.0794 - val_loss: 0.6062 - 58ms/epoch - 3ms/step\n",
      "Epoch 4/100\n",
      "19/19 - 0s - loss: 0.0760 - val_loss: 0.6178 - 56ms/epoch - 3ms/step\n",
      "Epoch 5/100\n",
      "19/19 - 0s - loss: 0.0737 - val_loss: 0.5995 - 58ms/epoch - 3ms/step\n",
      "Epoch 6/100\n",
      "19/19 - 0s - loss: 0.0719 - val_loss: 0.5711 - 55ms/epoch - 3ms/step\n",
      "Epoch 7/100\n",
      "19/19 - 0s - loss: 0.0739 - val_loss: 0.6096 - 60ms/epoch - 3ms/step\n",
      "Epoch 8/100\n",
      "19/19 - 0s - loss: 0.0722 - val_loss: 0.6005 - 55ms/epoch - 3ms/step\n",
      "Epoch 9/100\n",
      "19/19 - 0s - loss: 0.0712 - val_loss: 0.5901 - 58ms/epoch - 3ms/step\n",
      "Epoch 10/100\n",
      "19/19 - 0s - loss: 0.0699 - val_loss: 0.5342 - 55ms/epoch - 3ms/step\n",
      "Epoch 11/100\n",
      "19/19 - 0s - loss: 0.0718 - val_loss: 0.5674 - 79ms/epoch - 4ms/step\n",
      "Epoch 12/100\n",
      "19/19 - 0s - loss: 0.0681 - val_loss: 0.5242 - 59ms/epoch - 3ms/step\n",
      "Epoch 13/100\n",
      "19/19 - 0s - loss: 0.0698 - val_loss: 0.5617 - 55ms/epoch - 3ms/step\n",
      "Epoch 14/100\n",
      "19/19 - 0s - loss: 0.0672 - val_loss: 0.5507 - 63ms/epoch - 3ms/step\n",
      "Epoch 15/100\n",
      "19/19 - 0s - loss: 0.0657 - val_loss: 0.5119 - 59ms/epoch - 3ms/step\n",
      "Epoch 16/100\n",
      "19/19 - 0s - loss: 0.0646 - val_loss: 0.5068 - 56ms/epoch - 3ms/step\n",
      "Epoch 17/100\n",
      "19/19 - 0s - loss: 0.0670 - val_loss: 0.5145 - 58ms/epoch - 3ms/step\n",
      "Epoch 18/100\n",
      "19/19 - 0s - loss: 0.0655 - val_loss: 0.4965 - 59ms/epoch - 3ms/step\n",
      "Epoch 19/100\n",
      "19/19 - 0s - loss: 0.0615 - val_loss: 0.5023 - 56ms/epoch - 3ms/step\n",
      "Epoch 20/100\n",
      "19/19 - 0s - loss: 0.0591 - val_loss: 0.4451 - 59ms/epoch - 3ms/step\n",
      "Epoch 21/100\n",
      "19/19 - 0s - loss: 0.0612 - val_loss: 0.4625 - 69ms/epoch - 4ms/step\n",
      "Epoch 22/100\n",
      "19/19 - 0s - loss: 0.0583 - val_loss: 0.4829 - 62ms/epoch - 3ms/step\n",
      "Epoch 23/100\n",
      "19/19 - 0s - loss: 0.0576 - val_loss: 0.4846 - 63ms/epoch - 3ms/step\n",
      "Epoch 24/100\n",
      "19/19 - 0s - loss: 0.0550 - val_loss: 0.4438 - 64ms/epoch - 3ms/step\n",
      "Epoch 25/100\n",
      "19/19 - 0s - loss: 0.0538 - val_loss: 0.4472 - 61ms/epoch - 3ms/step\n",
      "Epoch 26/100\n",
      "19/19 - 0s - loss: 0.0512 - val_loss: 0.3739 - 62ms/epoch - 3ms/step\n",
      "Epoch 27/100\n",
      "19/19 - 0s - loss: 0.0518 - val_loss: 0.4270 - 62ms/epoch - 3ms/step\n",
      "Epoch 28/100\n",
      "19/19 - 0s - loss: 0.0553 - val_loss: 0.4312 - 60ms/epoch - 3ms/step\n",
      "Epoch 29/100\n",
      "19/19 - 0s - loss: 0.0524 - val_loss: 0.4068 - 72ms/epoch - 4ms/step\n",
      "Epoch 30/100\n",
      "19/19 - 0s - loss: 0.0505 - val_loss: 0.4104 - 58ms/epoch - 3ms/step\n",
      "Epoch 31/100\n",
      "19/19 - 0s - loss: 0.0540 - val_loss: 0.3694 - 58ms/epoch - 3ms/step\n",
      "Epoch 32/100\n",
      "19/19 - 0s - loss: 0.0462 - val_loss: 0.3873 - 73ms/epoch - 4ms/step\n",
      "Epoch 33/100\n",
      "19/19 - 0s - loss: 0.0451 - val_loss: 0.3357 - 56ms/epoch - 3ms/step\n",
      "Epoch 34/100\n",
      "19/19 - 0s - loss: 0.0498 - val_loss: 0.3378 - 72ms/epoch - 4ms/step\n",
      "Epoch 35/100\n",
      "19/19 - 0s - loss: 0.0422 - val_loss: 0.3009 - 84ms/epoch - 4ms/step\n",
      "Epoch 36/100\n",
      "19/19 - 0s - loss: 0.0419 - val_loss: 0.3098 - 62ms/epoch - 3ms/step\n",
      "Epoch 37/100\n",
      "19/19 - 0s - loss: 0.0470 - val_loss: 0.2977 - 55ms/epoch - 3ms/step\n",
      "Epoch 38/100\n",
      "19/19 - 0s - loss: 0.0400 - val_loss: 0.2775 - 62ms/epoch - 3ms/step\n",
      "Epoch 39/100\n",
      "19/19 - 0s - loss: 0.0391 - val_loss: 0.3068 - 58ms/epoch - 3ms/step\n",
      "Epoch 40/100\n",
      "19/19 - 0s - loss: 0.0378 - val_loss: 0.2866 - 56ms/epoch - 3ms/step\n",
      "Epoch 41/100\n",
      "19/19 - 0s - loss: 0.0408 - val_loss: 0.3049 - 60ms/epoch - 3ms/step\n",
      "Epoch 42/100\n",
      "19/19 - 0s - loss: 0.0364 - val_loss: 0.3191 - 57ms/epoch - 3ms/step\n",
      "Epoch 43/100\n",
      "19/19 - 0s - loss: 0.0376 - val_loss: 0.2390 - 84ms/epoch - 4ms/step\n",
      "Epoch 44/100\n",
      "19/19 - 0s - loss: 0.0347 - val_loss: 0.2333 - 56ms/epoch - 3ms/step\n",
      "Epoch 45/100\n",
      "19/19 - 0s - loss: 0.0392 - val_loss: 0.2360 - 60ms/epoch - 3ms/step\n",
      "Epoch 46/100\n",
      "19/19 - 0s - loss: 0.0392 - val_loss: 0.2115 - 57ms/epoch - 3ms/step\n",
      "Epoch 47/100\n",
      "19/19 - 0s - loss: 0.0336 - val_loss: 0.2633 - 70ms/epoch - 4ms/step\n",
      "Epoch 48/100\n",
      "19/19 - 0s - loss: 0.0334 - val_loss: 0.2488 - 58ms/epoch - 3ms/step\n",
      "Epoch 49/100\n",
      "19/19 - 0s - loss: 0.0336 - val_loss: 0.2103 - 57ms/epoch - 3ms/step\n",
      "Epoch 50/100\n",
      "19/19 - 0s - loss: 0.0289 - val_loss: 0.1915 - 60ms/epoch - 3ms/step\n",
      "Epoch 51/100\n",
      "19/19 - 0s - loss: 0.0293 - val_loss: 0.2002 - 57ms/epoch - 3ms/step\n",
      "Epoch 52/100\n",
      "19/19 - 0s - loss: 0.0301 - val_loss: 0.2076 - 69ms/epoch - 4ms/step\n",
      "Epoch 53/100\n",
      "19/19 - 0s - loss: 0.0313 - val_loss: 0.1737 - 65ms/epoch - 3ms/step\n",
      "Epoch 54/100\n",
      "19/19 - 0s - loss: 0.0262 - val_loss: 0.1851 - 68ms/epoch - 4ms/step\n",
      "Epoch 55/100\n",
      "19/19 - 0s - loss: 0.0253 - val_loss: 0.1298 - 60ms/epoch - 3ms/step\n",
      "Epoch 56/100\n",
      "19/19 - 0s - loss: 0.0249 - val_loss: 0.1296 - 56ms/epoch - 3ms/step\n",
      "Epoch 57/100\n",
      "19/19 - 0s - loss: 0.0277 - val_loss: 0.1425 - 67ms/epoch - 4ms/step\n",
      "Epoch 58/100\n",
      "19/19 - 0s - loss: 0.0243 - val_loss: 0.1455 - 54ms/epoch - 3ms/step\n",
      "Epoch 59/100\n",
      "19/19 - 0s - loss: 0.0222 - val_loss: 0.1116 - 57ms/epoch - 3ms/step\n",
      "Epoch 60/100\n",
      "19/19 - 0s - loss: 0.0222 - val_loss: 0.1355 - 68ms/epoch - 4ms/step\n",
      "Epoch 61/100\n",
      "19/19 - 0s - loss: 0.0219 - val_loss: 0.1408 - 52ms/epoch - 3ms/step\n",
      "Epoch 62/100\n",
      "19/19 - 0s - loss: 0.0222 - val_loss: 0.0863 - 53ms/epoch - 3ms/step\n",
      "Epoch 63/100\n",
      "19/19 - 0s - loss: 0.0191 - val_loss: 0.0690 - 62ms/epoch - 3ms/step\n",
      "Epoch 64/100\n",
      "19/19 - 0s - loss: 0.0190 - val_loss: 0.0651 - 57ms/epoch - 3ms/step\n",
      "Epoch 65/100\n",
      "19/19 - 0s - loss: 0.0168 - val_loss: 0.0657 - 54ms/epoch - 3ms/step\n",
      "Epoch 66/100\n",
      "19/19 - 0s - loss: 0.0168 - val_loss: 0.0905 - 55ms/epoch - 3ms/step\n",
      "Epoch 67/100\n",
      "19/19 - 0s - loss: 0.0169 - val_loss: 0.0627 - 63ms/epoch - 3ms/step\n",
      "Epoch 68/100\n",
      "19/19 - 0s - loss: 0.0159 - val_loss: 0.0606 - 66ms/epoch - 3ms/step\n",
      "Epoch 69/100\n",
      "19/19 - 0s - loss: 0.0153 - val_loss: 0.0390 - 56ms/epoch - 3ms/step\n",
      "Epoch 70/100\n",
      "19/19 - 0s - loss: 0.0176 - val_loss: 0.0390 - 55ms/epoch - 3ms/step\n",
      "Epoch 71/100\n",
      "19/19 - 0s - loss: 0.0169 - val_loss: 0.0317 - 63ms/epoch - 3ms/step\n",
      "Epoch 72/100\n",
      "19/19 - 0s - loss: 0.0134 - val_loss: 0.0220 - 65ms/epoch - 3ms/step\n",
      "Epoch 73/100\n",
      "19/19 - 0s - loss: 0.0236 - val_loss: 0.0286 - 68ms/epoch - 4ms/step\n",
      "Epoch 74/100\n",
      "19/19 - 0s - loss: 0.0167 - val_loss: 0.0302 - 57ms/epoch - 3ms/step\n",
      "Epoch 75/100\n",
      "19/19 - 0s - loss: 0.0113 - val_loss: 0.0268 - 59ms/epoch - 3ms/step\n",
      "Epoch 76/100\n",
      "19/19 - 0s - loss: 0.0150 - val_loss: 0.0286 - 56ms/epoch - 3ms/step\n",
      "Epoch 77/100\n",
      "19/19 - 0s - loss: 0.0213 - val_loss: 0.0280 - 66ms/epoch - 3ms/step\n",
      "Epoch 78/100\n",
      "19/19 - 0s - loss: 0.0141 - val_loss: 0.0311 - 62ms/epoch - 3ms/step\n",
      "Epoch 79/100\n",
      "19/19 - 0s - loss: 0.0143 - val_loss: 0.0359 - 54ms/epoch - 3ms/step\n",
      "Epoch 80/100\n",
      "19/19 - 0s - loss: 0.0164 - val_loss: 0.0983 - 53ms/epoch - 3ms/step\n",
      "Epoch 81/100\n",
      "19/19 - 0s - loss: 0.0195 - val_loss: 0.0428 - 60ms/epoch - 3ms/step\n",
      "Epoch 82/100\n",
      "19/19 - 0s - loss: 0.0207 - val_loss: 0.0521 - 57ms/epoch - 3ms/step\n",
      "Epoch 83/100\n",
      "19/19 - 0s - loss: 0.0164 - val_loss: 0.0386 - 63ms/epoch - 3ms/step\n",
      "Epoch 84/100\n",
      "19/19 - 0s - loss: 0.0159 - val_loss: 0.0413 - 59ms/epoch - 3ms/step\n",
      "Epoch 85/100\n",
      "19/19 - 0s - loss: 0.0159 - val_loss: 0.0410 - 60ms/epoch - 3ms/step\n",
      "Epoch 86/100\n",
      "19/19 - 0s - loss: 0.0122 - val_loss: 0.0394 - 57ms/epoch - 3ms/step\n",
      "Epoch 87/100\n",
      "19/19 - 0s - loss: 0.0108 - val_loss: 0.0437 - 67ms/epoch - 4ms/step\n",
      "Epoch 88/100\n",
      "19/19 - 0s - loss: 0.0112 - val_loss: 0.0420 - 51ms/epoch - 3ms/step\n",
      "Epoch 89/100\n",
      "19/19 - 0s - loss: 0.0136 - val_loss: 0.0467 - 64ms/epoch - 3ms/step\n",
      "Epoch 90/100\n",
      "19/19 - 0s - loss: 0.0177 - val_loss: 0.0579 - 55ms/epoch - 3ms/step\n",
      "Epoch 91/100\n",
      "19/19 - 0s - loss: 0.0124 - val_loss: 0.0649 - 57ms/epoch - 3ms/step\n",
      "Epoch 92/100\n",
      "19/19 - 0s - loss: 0.0154 - val_loss: 0.0470 - 54ms/epoch - 3ms/step\n",
      "Epoch 93/100\n",
      "19/19 - 0s - loss: 0.0129 - val_loss: 0.0414 - 56ms/epoch - 3ms/step\n",
      "Epoch 94/100\n",
      "19/19 - 0s - loss: 0.0104 - val_loss: 0.0451 - 55ms/epoch - 3ms/step\n",
      "Epoch 95/100\n",
      "19/19 - 0s - loss: 0.0101 - val_loss: 0.0628 - 66ms/epoch - 3ms/step\n",
      "Epoch 96/100\n",
      "19/19 - 0s - loss: 0.0121 - val_loss: 0.0408 - 55ms/epoch - 3ms/step\n",
      "Epoch 97/100\n",
      "19/19 - 0s - loss: 0.0168 - val_loss: 0.0611 - 49ms/epoch - 3ms/step\n",
      "Epoch 98/100\n",
      "19/19 - 0s - loss: 0.0120 - val_loss: 0.0404 - 60ms/epoch - 3ms/step\n",
      "Epoch 99/100\n",
      "19/19 - 0s - loss: 0.0124 - val_loss: 0.0683 - 51ms/epoch - 3ms/step\n",
      "Epoch 100/100\n",
      "19/19 - 0s - loss: 0.0146 - val_loss: 0.0422 - 52ms/epoch - 3ms/step\n"
     ]
    }
   ],
   "source": [
    "# fit the keras model on the dataset REAL DATA\n",
    "history = model.fit(X, y, epochs=100, batch_size=4, verbose=2, validation_split=0.20)"
   ]
  },
  {
   "cell_type": "code",
   "execution_count": 23,
   "metadata": {},
   "outputs": [
    {
     "name": "stdout",
     "output_type": "stream",
     "text": [
      "MAE: 0.02137\n"
     ]
    }
   ],
   "source": [
    "# evaluate on test set\n",
    "yhat = model.predict(X)\n",
    "error = mean_absolute_error(y, yhat)\n",
    "print('MAE: %.5f' % error)\n"
   ]
  },
  {
   "cell_type": "code",
   "execution_count": 63,
   "metadata": {},
   "outputs": [],
   "source": [
    "#print(yhat) "
   ]
  },
  {
   "cell_type": "code",
   "execution_count": 64,
   "metadata": {},
   "outputs": [],
   "source": [
    "#print(y)"
   ]
  },
  {
   "cell_type": "code",
   "execution_count": 105,
   "metadata": {},
   "outputs": [],
   "source": [
    "###plt.plot(y)"
   ]
  },
  {
   "cell_type": "code",
   "execution_count": 106,
   "metadata": {},
   "outputs": [],
   "source": [
    "####plt.plot(yhat)"
   ]
  },
  {
   "cell_type": "code",
   "execution_count": 107,
   "metadata": {},
   "outputs": [],
   "source": [
    "#####print(yhat-y) "
   ]
  },
  {
   "cell_type": "code",
   "execution_count": 24,
   "metadata": {},
   "outputs": [
    {
     "name": "stdout",
     "output_type": "stream",
     "text": [
      "dict_keys(['loss', 'val_loss'])\n"
     ]
    }
   ],
   "source": [
    "print(history.history.keys())"
   ]
  },
  {
   "cell_type": "code",
   "execution_count": 25,
   "metadata": {},
   "outputs": [
    {
     "data": {
      "image/png": "[encoded data removed]",
      "text/plain": [
       "<Figure size 432x288 with 1 Axes>"
      ]
     },
     "metadata": {
      "needs_background": "light"
     },
     "output_type": "display_data"
    }
   ],
   "source": [
    "loss_train = history.history['loss']\n",
    "loss_val = history.history['val_loss']\n",
    "epochs = range(1,101)\n",
    "plt.plot(epochs, loss_train, 'g', label='Training loss')\n",
    "plt.plot(epochs, loss_val, 'b', label='validation loss')\n",
    "plt.title('Training and Validation loss')\n",
    "plt.xlabel('Epochs')\n",
    "plt.ylabel('Loss')\n",
    "plt.legend()\n",
    "plt.show()"
   ]
  },
  {
   "cell_type": "code",
   "execution_count": null,
   "metadata": {},
   "outputs": [],
   "source": []
  },
  {
   "cell_type": "code",
   "execution_count": null,
   "metadata": {},
   "outputs": [],
   "source": []
  }
 ],
 "metadata": {
  "kernelspec": {
   "display_name": "Python 3 (ipykernel)",
   "language": "python",
   "name": "python3"
  },
  "language_info": {
   "codemirror_mode": {
    "name": "ipython",
    "version": 3
   },
   "file_extension": ".py",
   "mimetype": "text/x-python",
   "name": "python",
   "nbconvert_exporter": "python",
   "pygments_lexer": "ipython3",
   "version": "3.12.7"
  }
 },
 "nbformat": 4,
 "nbformat_minor": 4
}
