{
 "cells": [
  {
   "cell_type": "code",
   "execution_count": 22,
   "metadata": {},
   "outputs": [
    {
     "name": "stdout",
     "output_type": "stream",
     "text": [
      "Requirement already satisfied: keras in h:\\anaconda\\lib\\site-packages (3.6.0)\n",
      "Requirement already satisfied: tensorflow in h:\\anaconda\\lib\\site-packages (2.18.0)\n",
      "Requirement already satisfied: absl-py in h:\\anaconda\\lib\\site-packages (from keras) (2.1.0)\n",
      "Requirement already satisfied: numpy in h:\\anaconda\\lib\\site-packages (from keras) (1.26.4)\n",
      "Requirement already satisfied: rich in h:\\anaconda\\lib\\site-packages (from keras) (13.7.1)\n",
      "Requirement already satisfied: namex in h:\\anaconda\\lib\\site-packages (from keras) (0.0.8)\n",
      "Requirement already satisfied: h5py in h:\\anaconda\\lib\\site-packages (from keras) (3.11.0)\n",
      "Requirement already satisfied: optree in h:\\anaconda\\lib\\site-packages (from keras) (0.13.1)\n",
      "Requirement already satisfied: ml-dtypes in h:\\anaconda\\lib\\site-packages (from keras) (0.4.1)\n",
      "Requirement already satisfied: packaging in h:\\anaconda\\lib\\site-packages (from keras) (24.1)\n",
      "Requirement already satisfied: tensorflow-intel==2.18.0 in h:\\anaconda\\lib\\site-packages (from tensorflow) (2.18.0)\n",
      "Requirement already satisfied: astunparse>=1.6.0 in h:\\anaconda\\lib\\site-packages (from tensorflow-intel==2.18.0->tensorflow) (1.6.3)\n",
      "Requirement already satisfied: flatbuffers>=24.3.25 in h:\\anaconda\\lib\\site-packages (from tensorflow-intel==2.18.0->tensorflow) (24.3.25)\n",
      "Requirement already satisfied: gast!=0.5.0,!=0.5.1,!=0.5.2,>=0.2.1 in h:\\anaconda\\lib\\site-packages (from tensorflow-intel==2.18.0->tensorflow) (0.6.0)\n",
      "Requirement already satisfied: google-pasta>=0.1.1 in h:\\anaconda\\lib\\site-packages (from tensorflow-intel==2.18.0->tensorflow) (0.2.0)\n",
      "Requirement already satisfied: libclang>=13.0.0 in h:\\anaconda\\lib\\site-packages (from tensorflow-intel==2.18.0->tensorflow) (18.1.1)\n",
      "Requirement already satisfied: opt-einsum>=2.3.2 in h:\\anaconda\\lib\\site-packages (from tensorflow-intel==2.18.0->tensorflow) (3.4.0)\n",
      "Requirement already satisfied: protobuf!=4.21.0,!=4.21.1,!=4.21.2,!=4.21.3,!=4.21.4,!=4.21.5,<6.0.0dev,>=3.20.3 in h:\\anaconda\\lib\\site-packages (from tensorflow-intel==2.18.0->tensorflow) (4.25.3)\n",
      "Requirement already satisfied: requests<3,>=2.21.0 in h:\\anaconda\\lib\\site-packages (from tensorflow-intel==2.18.0->tensorflow) (2.32.3)\n",
      "Requirement already satisfied: setuptools in h:\\anaconda\\lib\\site-packages (from tensorflow-intel==2.18.0->tensorflow) (75.1.0)\n",
      "Requirement already satisfied: six>=1.12.0 in h:\\anaconda\\lib\\site-packages (from tensorflow-intel==2.18.0->tensorflow) (1.16.0)\n",
      "Requirement already satisfied: termcolor>=1.1.0 in h:\\anaconda\\lib\\site-packages (from tensorflow-intel==2.18.0->tensorflow) (2.5.0)\n",
      "Requirement already satisfied: typing-extensions>=3.6.6 in h:\\anaconda\\lib\\site-packages (from tensorflow-intel==2.18.0->tensorflow) (4.11.0)\n",
      "Requirement already satisfied: wrapt>=1.11.0 in h:\\anaconda\\lib\\site-packages (from tensorflow-intel==2.18.0->tensorflow) (1.14.1)\n",
      "Requirement already satisfied: grpcio<2.0,>=1.24.3 in h:\\anaconda\\lib\\site-packages (from tensorflow-intel==2.18.0->tensorflow) (1.68.0)\n",
      "Requirement already satisfied: tensorboard<2.19,>=2.18 in h:\\anaconda\\lib\\site-packages (from tensorflow-intel==2.18.0->tensorflow) (2.18.0)\n",
      "Requirement already satisfied: markdown-it-py>=2.2.0 in h:\\anaconda\\lib\\site-packages (from rich->keras) (2.2.0)\n",
      "Requirement already satisfied: pygments<3.0.0,>=2.13.0 in h:\\anaconda\\lib\\site-packages (from rich->keras) (2.15.1)\n",
      "Requirement already satisfied: wheel<1.0,>=0.23.0 in h:\\anaconda\\lib\\site-packages (from astunparse>=1.6.0->tensorflow-intel==2.18.0->tensorflow) (0.44.0)\n",
      "Requirement already satisfied: mdurl~=0.1 in h:\\anaconda\\lib\\site-packages (from markdown-it-py>=2.2.0->rich->keras) (0.1.0)\n",
      "Requirement already satisfied: charset-normalizer<4,>=2 in h:\\anaconda\\lib\\site-packages (from requests<3,>=2.21.0->tensorflow-intel==2.18.0->tensorflow) (3.3.2)\n",
      "Requirement already satisfied: idna<4,>=2.5 in h:\\anaconda\\lib\\site-packages (from requests<3,>=2.21.0->tensorflow-intel==2.18.0->tensorflow) (3.7)\n",
      "Requirement already satisfied: urllib3<3,>=1.21.1 in h:\\anaconda\\lib\\site-packages (from requests<3,>=2.21.0->tensorflow-intel==2.18.0->tensorflow) (2.2.3)\n",
      "Requirement already satisfied: certifi>=2017.4.17 in h:\\anaconda\\lib\\site-packages (from requests<3,>=2.21.0->tensorflow-intel==2.18.0->tensorflow) (2024.8.30)\n",
      "Requirement already satisfied: markdown>=2.6.8 in h:\\anaconda\\lib\\site-packages (from tensorboard<2.19,>=2.18->tensorflow-intel==2.18.0->tensorflow) (3.4.1)\n",
      "Requirement already satisfied: tensorboard-data-server<0.8.0,>=0.7.0 in h:\\anaconda\\lib\\site-packages (from tensorboard<2.19,>=2.18->tensorflow-intel==2.18.0->tensorflow) (0.7.2)\n",
      "Requirement already satisfied: werkzeug>=1.0.1 in h:\\anaconda\\lib\\site-packages (from tensorboard<2.19,>=2.18->tensorflow-intel==2.18.0->tensorflow) (3.0.3)\n",
      "Requirement already satisfied: MarkupSafe>=2.1.1 in h:\\anaconda\\lib\\site-packages (from werkzeug>=1.0.1->tensorboard<2.19,>=2.18->tensorflow-intel==2.18.0->tensorflow) (2.1.3)\n",
      "Note: you may need to restart the kernel to use updated packages.\n"
     ]
    }
   ],
   "source": [
    "\n",
    "%pip install keras tensorflow\n",
    "#Dataset transform: We change parameters with the Illinois dataset.\n",
    "#Future selection showed that Precipitation, Temperature max and min and Solar radiation are the factors that significantly impact the yield.\n",
    "# With Adaptive optimizer (ADAM)\n",
    "#1. Normal dataset: Y=0.75, Yhat= 0.782, MAE = 0.01040  ########################## Y=0.78272 , Yhat=0.865  , MAE= 0.01288\n",
    "#2. We changed the Solar radiation: Y=0.75, Yhat = 0.756, MAE= 0.01886  ########################## Y=0.78272 ,Yhat= 0.800  , MAE= 0.01726 \n",
    "#3. We changed the Precipitation: Y=0.75, Yhat = 0.760 , MAE= 0.01995   ########################## Y=0.78272 ,Yhat= 0.807 , MAE= 0.01474\n",
    "#4. We changed the Min_Temperature: Y=0.75, Yhat = 0.757 , MAE= 0.01677 ########################## Y=0.78272 ,Yhat= 0.791 , MAE=0.01285\n",
    "#5. We changed the Max_Temperature: Y=0.75, Yhat = 0.752, MAE= 0.01648  ########################## Y=0.78272 ,Yhat= 0.812 , MAE=0.01699 \n",
    "#6. We changed All the 4 parameters: Y=0.75, Yhat = 0.772 , MAE= 0.01538 ########################## Y=0.78272 ,Yhat= 0.820 , MAE= 0.01382\n",
    "\n",
    "# With Stochastic Gradient Descent (SGD)\n",
    "#1. Normal dataset: Y=0.75, Yhat= 0.791, MAE = 0.01564 ########################## Y=0.78272 ,Yhat= 0.896 , MAE= 0.01915\n",
    "#2. We changed the Solar radiation: Y=0.75, Yhat = 0.772, MAE= 0.02294 ########################## Y=0.78272, Yhat=0.793, MAE=0.02420\n",
    "#3. We changed the Precipitation: Y=0.75, Yhat = 0.794 , MAE= 0.01483 ########################## Y=0.78272, Yhat=0.821, MAE=0.01723\n",
    "#4. We changed the Min_Temperature: Y=0.75, Yhat = 0.771 , MAE= 0.01459 ########################## Y=0.78272 ,Yhat= 0.813 , MAE= 0.01605\n",
    "#5. We changed the Max_Temperature: Y=0.75, Yhat = 0.776, MAE= 0.01629  ########################## Y=0.78272 ,Yhat= 0.826 , MAE= 0.01634\n",
    "#6. We changed All the 4 parameters: Y=0.75, Yhat = 0.797, MAE= 0.01988 ########################## Y=0.78272 ,Yhat= 0.888 , MAE= \n"
   ]
  },
  {
   "cell_type": "code",
   "execution_count": 23,
   "metadata": {},
   "outputs": [],
   "source": [
    "# plt.figure(9)\n",
    "# plt.plot(lsIndex, lsSN)\n",
    "# plt.xlabel('time (day)')\n",
    "# plt.ylabel('soil nitrogen (gN/m^2d)')\n",
    "# plt.title('Soil Nitrogen')\n",
    "# plt.show()\n",
    "\n",
    "# print('############################# LAI ##########################')\n",
    "# print(lsLAI)\n",
    "# print('############################# Grain Values ##########################')\n",
    "\n",
    "# print('############################# lsNUP ##########################')\n",
    "# print(lsNUP)"
   ]
  },
  {
   "cell_type": "code",
   "execution_count": 24,
   "metadata": {},
   "outputs": [
    {
     "name": "stdout",
     "output_type": "stream",
     "text": [
      "Requirement already satisfied: scikeras in h:\\anaconda\\lib\\site-packages (0.13.0)\n",
      "Requirement already satisfied: keras>=3.2.0 in h:\\anaconda\\lib\\site-packages (from scikeras) (3.6.0)\n",
      "Requirement already satisfied: scikit-learn>=1.4.2 in h:\\anaconda\\lib\\site-packages (from scikeras) (1.5.1)\n",
      "Requirement already satisfied: absl-py in h:\\anaconda\\lib\\site-packages (from keras>=3.2.0->scikeras) (2.1.0)\n",
      "Requirement already satisfied: numpy in h:\\anaconda\\lib\\site-packages (from keras>=3.2.0->scikeras) (1.26.4)\n",
      "Requirement already satisfied: rich in h:\\anaconda\\lib\\site-packages (from keras>=3.2.0->scikeras) (13.7.1)\n",
      "Requirement already satisfied: namex in h:\\anaconda\\lib\\site-packages (from keras>=3.2.0->scikeras) (0.0.8)\n",
      "Requirement already satisfied: h5py in h:\\anaconda\\lib\\site-packages (from keras>=3.2.0->scikeras) (3.11.0)\n",
      "Requirement already satisfied: optree in h:\\anaconda\\lib\\site-packages (from keras>=3.2.0->scikeras) (0.13.1)\n",
      "Requirement already satisfied: ml-dtypes in h:\\anaconda\\lib\\site-packages (from keras>=3.2.0->scikeras) (0.4.1)\n",
      "Requirement already satisfied: packaging in h:\\anaconda\\lib\\site-packages (from keras>=3.2.0->scikeras) (24.1)\n",
      "Requirement already satisfied: scipy>=1.6.0 in h:\\anaconda\\lib\\site-packages (from scikit-learn>=1.4.2->scikeras) (1.13.1)\n",
      "Requirement already satisfied: joblib>=1.2.0 in h:\\anaconda\\lib\\site-packages (from scikit-learn>=1.4.2->scikeras) (1.4.2)\n",
      "Requirement already satisfied: threadpoolctl>=3.1.0 in h:\\anaconda\\lib\\site-packages (from scikit-learn>=1.4.2->scikeras) (3.5.0)\n",
      "Requirement already satisfied: typing-extensions>=4.5.0 in h:\\anaconda\\lib\\site-packages (from optree->keras>=3.2.0->scikeras) (4.11.0)\n",
      "Requirement already satisfied: markdown-it-py>=2.2.0 in h:\\anaconda\\lib\\site-packages (from rich->keras>=3.2.0->scikeras) (2.2.0)\n",
      "Requirement already satisfied: pygments<3.0.0,>=2.13.0 in h:\\anaconda\\lib\\site-packages (from rich->keras>=3.2.0->scikeras) (2.15.1)\n",
      "Requirement already satisfied: mdurl~=0.1 in h:\\anaconda\\lib\\site-packages (from markdown-it-py>=2.2.0->rich->keras>=3.2.0->scikeras) (0.1.0)\n",
      "Note: you may need to restart the kernel to use updated packages.\n"
     ]
    }
   ],
   "source": [
    "%pip install scikeras"
   ]
  },
  {
   "cell_type": "code",
   "execution_count": 29,
   "metadata": {},
   "outputs": [],
   "source": [
    "\n",
    "# first neural network with keras tutorial\n",
    "import tensorflow as tf\n",
    "from tensorflow import keras\n",
    "from numpy import loadtxt\n",
    "from keras.models import Sequential\n",
    "from keras.layers import Dense\n",
    "#from keras.wrappers.scikit_learn import KerasRegressor\n",
    "from scikeras.wrappers import KerasClassifier, KerasRegressor\n",
    "from sklearn.model_selection import cross_val_score\n",
    "from sklearn.model_selection import KFold\n",
    "from sklearn.datasets import make_regression\n",
    "from sklearn.preprocessing import MinMaxScaler\n",
    "from sklearn.metrics import mean_absolute_error\n",
    "from numpy import asarray\n",
    "from numpy import unique\n",
    "from numpy import argmax\n",
    "import matplotlib.pyplot as plt\n",
    "import pandas as pd\n",
    "from sklearn.model_selection import train_test_split\n",
    "import numpy as np\n",
    "from tensorflow.keras.utils import plot_model\n",
    "from sklearn.preprocessing import StandardScaler\n",
    "#from keras.optimizers import SGD"
   ]
  },
  {
   "cell_type": "code",
   "execution_count": 35,
   "metadata": {},
   "outputs": [],
   "source": [
    "# load the dataset\n",
    "dataset = loadtxt('Data/datas.csv', delimiter=',') #('Dataset_transformAll.csv', delimiter=',') # #('Audrey_Dataset.csv', delimiter=',')\n",
    "# split into input (X) and output (y) variables\n",
    "#X = dataset[:,0:7]\n",
    "#y = dataset[:,7]"
   ]
  },
  {
   "cell_type": "code",
   "execution_count": 37,
   "metadata": {},
   "outputs": [],
   "source": [
    "###############################################################################################\n",
    "#Dataset transform: We change parameters with the Illinois dataset.\n",
    "#Future selection showed that Precipitation, Temperature max and min and Solar radiation are the factors that significantly impact the yield.\n",
    "#1. Normal dataset: Y=0.75, Yhat= 0.774, MAE = 0.00901\n",
    "#2. We changed the Solar radiation: Y=0.75, Yhat = 0.785, MAE= 0.01315\n",
    "#3. We changed the Precipitation: Y=0.75, Yhat = 0.788 , MAE= 0.01014\n",
    "#4. We changed the Min_Temperature: Y=0.75, Yhat = 0.773 , MAE= 0.01182\n",
    "#5. We changed the Max_Temperature: Y=0.75, Yhat = 0.763 , MAE= 0.02105\n",
    "#6. We changed All the 4 parameters: Y=0.75, Yhat = 0.771 , MAE= 0.01477\n",
    "###############################################################################################\n"
   ]
  },
  {
   "cell_type": "code",
   "execution_count": 39,
   "metadata": {},
   "outputs": [],
   "source": [
    "#EXERCICE3\n",
    "\n",
    "X, y = make_regression(n_samples=181, n_features=7, noise=0.1, random_state=1)\n",
    "n_train = 75\n",
    "trainX, testX = X[:n_train, :], X[n_train:, :]\n",
    "trainy, testy = y[:n_train], y[n_train:]\n",
    "\n",
    "trainy = trainy.reshape(len(trainy), 1)\n",
    "testy = testy.reshape(len(testy), 1)\n",
    "# created scaler\n",
    "scaler = StandardScaler()\n",
    "# fit scaler on training dataset\n",
    "scaler.fit(trainy)\n",
    "# transform training dataset\n",
    "trainy = scaler.transform(trainy)\n",
    "# transform test dataset\n",
    "testy = scaler.transform(testy) "
   ]
  },
  {
   "cell_type": "code",
   "execution_count": 41,
   "metadata": {},
   "outputs": [
    {
     "name": "stderr",
     "output_type": "stream",
     "text": [
      "H:\\Anaconda\\Lib\\site-packages\\keras\\src\\layers\\core\\dense.py:87: UserWarning: Do not pass an `input_shape`/`input_dim` argument to a layer. When using Sequential models, prefer using an `Input(shape)` object as the first layer in the model instead.\n",
      "  super().__init__(activity_regularizer=activity_regularizer, **kwargs)\n"
     ]
    }
   ],
   "source": [
    "#EXERCICE3\n",
    "model = Sequential()\n",
    "model.add(Dense(20, input_dim=7, activation='relu', kernel_initializer='normal'))\n",
    "model.add(Dense(1, kernel_initializer='normal', activation='linear'))\n"
   ]
  },
  {
   "cell_type": "code",
   "execution_count": 43,
   "metadata": {},
   "outputs": [
    {
     "data": {
      "text/html": [
       "<pre style=\"white-space:pre;overflow-x:auto;line-height:normal;font-family:Menlo,'DejaVu Sans Mono',consolas,'Courier New',monospace\"><span style=\"font-weight: bold\">Model: \"sequential\"</span>\n",
       "</pre>\n"
      ],
      "text/plain": [
       "\u001b[1mModel: \"sequential\"\u001b[0m\n"
      ]
     },
     "metadata": {},
     "output_type": "display_data"
    },
    {
     "data": {
      "text/html": [
       "<pre style=\"white-space:pre;overflow-x:auto;line-height:normal;font-family:Menlo,'DejaVu Sans Mono',consolas,'Courier New',monospace\">┏━━━━━━━━━━━━━━━━━━━━━━━━━━━━━━━━━┳━━━━━━━━━━━━━━━━━━━━━━━━┳━━━━━━━━━━━━━━━┓\n",
       "┃<span style=\"font-weight: bold\"> Layer (type)                    </span>┃<span style=\"font-weight: bold\"> Output Shape           </span>┃<span style=\"font-weight: bold\">       Param # </span>┃\n",
       "┡━━━━━━━━━━━━━━━━━━━━━━━━━━━━━━━━━╇━━━━━━━━━━━━━━━━━━━━━━━━╇━━━━━━━━━━━━━━━┩\n",
       "│ dense (<span style=\"color: #0087ff; text-decoration-color: #0087ff\">Dense</span>)                   │ (<span style=\"color: #00d7ff; text-decoration-color: #00d7ff\">None</span>, <span style=\"color: #00af00; text-decoration-color: #00af00\">20</span>)             │           <span style=\"color: #00af00; text-decoration-color: #00af00\">160</span> │\n",
       "├─────────────────────────────────┼────────────────────────┼───────────────┤\n",
       "│ dense_1 (<span style=\"color: #0087ff; text-decoration-color: #0087ff\">Dense</span>)                 │ (<span style=\"color: #00d7ff; text-decoration-color: #00d7ff\">None</span>, <span style=\"color: #00af00; text-decoration-color: #00af00\">1</span>)              │            <span style=\"color: #00af00; text-decoration-color: #00af00\">21</span> │\n",
       "└─────────────────────────────────┴────────────────────────┴───────────────┘\n",
       "</pre>\n"
      ],
      "text/plain": [
       "┏━━━━━━━━━━━━━━━━━━━━━━━━━━━━━━━━━┳━━━━━━━━━━━━━━━━━━━━━━━━┳━━━━━━━━━━━━━━━┓\n",
       "┃\u001b[1m \u001b[0m\u001b[1mLayer (type)                   \u001b[0m\u001b[1m \u001b[0m┃\u001b[1m \u001b[0m\u001b[1mOutput Shape          \u001b[0m\u001b[1m \u001b[0m┃\u001b[1m \u001b[0m\u001b[1m      Param #\u001b[0m\u001b[1m \u001b[0m┃\n",
       "┡━━━━━━━━━━━━━━━━━━━━━━━━━━━━━━━━━╇━━━━━━━━━━━━━━━━━━━━━━━━╇━━━━━━━━━━━━━━━┩\n",
       "│ dense (\u001b[38;5;33mDense\u001b[0m)                   │ (\u001b[38;5;45mNone\u001b[0m, \u001b[38;5;34m20\u001b[0m)             │           \u001b[38;5;34m160\u001b[0m │\n",
       "├─────────────────────────────────┼────────────────────────┼───────────────┤\n",
       "│ dense_1 (\u001b[38;5;33mDense\u001b[0m)                 │ (\u001b[38;5;45mNone\u001b[0m, \u001b[38;5;34m1\u001b[0m)              │            \u001b[38;5;34m21\u001b[0m │\n",
       "└─────────────────────────────────┴────────────────────────┴───────────────┘\n"
      ]
     },
     "metadata": {},
     "output_type": "display_data"
    },
    {
     "data": {
      "text/html": [
       "<pre style=\"white-space:pre;overflow-x:auto;line-height:normal;font-family:Menlo,'DejaVu Sans Mono',consolas,'Courier New',monospace\"><span style=\"font-weight: bold\"> Total params: </span><span style=\"color: #00af00; text-decoration-color: #00af00\">181</span> (724.00 B)\n",
       "</pre>\n"
      ],
      "text/plain": [
       "\u001b[1m Total params: \u001b[0m\u001b[38;5;34m181\u001b[0m (724.00 B)\n"
      ]
     },
     "metadata": {},
     "output_type": "display_data"
    },
    {
     "data": {
      "text/html": [
       "<pre style=\"white-space:pre;overflow-x:auto;line-height:normal;font-family:Menlo,'DejaVu Sans Mono',consolas,'Courier New',monospace\"><span style=\"font-weight: bold\"> Trainable params: </span><span style=\"color: #00af00; text-decoration-color: #00af00\">181</span> (724.00 B)\n",
       "</pre>\n"
      ],
      "text/plain": [
       "\u001b[1m Trainable params: \u001b[0m\u001b[38;5;34m181\u001b[0m (724.00 B)\n"
      ]
     },
     "metadata": {},
     "output_type": "display_data"
    },
    {
     "data": {
      "text/html": [
       "<pre style=\"white-space:pre;overflow-x:auto;line-height:normal;font-family:Menlo,'DejaVu Sans Mono',consolas,'Courier New',monospace\"><span style=\"font-weight: bold\"> Non-trainable params: </span><span style=\"color: #00af00; text-decoration-color: #00af00\">0</span> (0.00 B)\n",
       "</pre>\n"
      ],
      "text/plain": [
       "\u001b[1m Non-trainable params: \u001b[0m\u001b[38;5;34m0\u001b[0m (0.00 B)\n"
      ]
     },
     "metadata": {},
     "output_type": "display_data"
    },
    {
     "name": "stdout",
     "output_type": "stream",
     "text": [
      "None\n"
     ]
    }
   ],
   "source": [
    "#EXERCICE 3\n",
    "print(model.summary())"
   ]
  },
  {
   "cell_type": "code",
   "execution_count": 45,
   "metadata": {},
   "outputs": [
    {
     "name": "stderr",
     "output_type": "stream",
     "text": [
      "H:\\Anaconda\\Lib\\site-packages\\keras\\src\\optimizers\\base_optimizer.py:86: UserWarning: Argument `decay` is no longer supported and will be ignored.\n",
      "  warnings.warn(\n"
     ]
    }
   ],
   "source": [
    "#EXERCICE 3\n",
    "# compile model\n",
    "sgd = tf.keras.optimizers.SGD(learning_rate=0.01, decay=0.0, momentum=0.7, nesterov=False)\n",
    "model.compile(loss='mean_squared_error', optimizer=sgd)"
   ]
  },
  {
   "cell_type": "code",
   "execution_count": 47,
   "metadata": {},
   "outputs": [
    {
     "name": "stdout",
     "output_type": "stream",
     "text": [
      "Epoch 1/100\n",
      "3/3 - 1s - 185ms/step - loss: 0.9924 - val_loss: 0.5916\n",
      "Epoch 2/100\n",
      "3/3 - 0s - 13ms/step - loss: 0.9842 - val_loss: 0.5880\n",
      "Epoch 3/100\n",
      "3/3 - 0s - 13ms/step - loss: 0.9715 - val_loss: 0.5804\n",
      "Epoch 4/100\n",
      "3/3 - 0s - 13ms/step - loss: 0.9537 - val_loss: 0.5682\n",
      "Epoch 5/100\n",
      "3/3 - 0s - 12ms/step - loss: 0.9358 - val_loss: 0.5555\n",
      "Epoch 6/100\n",
      "3/3 - 0s - 13ms/step - loss: 0.9137 - val_loss: 0.5431\n",
      "Epoch 7/100\n",
      "3/3 - 0s - 14ms/step - loss: 0.8893 - val_loss: 0.5290\n",
      "Epoch 8/100\n",
      "3/3 - 0s - 13ms/step - loss: 0.8621 - val_loss: 0.5111\n",
      "Epoch 9/100\n",
      "3/3 - 0s - 13ms/step - loss: 0.8291 - val_loss: 0.4901\n",
      "Epoch 10/100\n",
      "3/3 - 0s - 13ms/step - loss: 0.7865 - val_loss: 0.4671\n",
      "Epoch 11/100\n",
      "3/3 - 0s - 13ms/step - loss: 0.7385 - val_loss: 0.4388\n",
      "Epoch 12/100\n",
      "3/3 - 0s - 12ms/step - loss: 0.6845 - val_loss: 0.4053\n",
      "Epoch 13/100\n",
      "3/3 - 0s - 13ms/step - loss: 0.6148 - val_loss: 0.3635\n",
      "Epoch 14/100\n",
      "3/3 - 0s - 12ms/step - loss: 0.5493 - val_loss: 0.3204\n",
      "Epoch 15/100\n",
      "3/3 - 0s - 13ms/step - loss: 0.4745 - val_loss: 0.2796\n",
      "Epoch 16/100\n",
      "3/3 - 0s - 12ms/step - loss: 0.4070 - val_loss: 0.2402\n",
      "Epoch 17/100\n",
      "3/3 - 0s - 12ms/step - loss: 0.3424 - val_loss: 0.1995\n",
      "Epoch 18/100\n",
      "3/3 - 0s - 13ms/step - loss: 0.2764 - val_loss: 0.1575\n",
      "Epoch 19/100\n",
      "3/3 - 0s - 12ms/step - loss: 0.2111 - val_loss: 0.1216\n",
      "Epoch 20/100\n",
      "3/3 - 0s - 12ms/step - loss: 0.1614 - val_loss: 0.0951\n",
      "Epoch 21/100\n",
      "3/3 - 0s - 13ms/step - loss: 0.1238 - val_loss: 0.0743\n",
      "Epoch 22/100\n",
      "3/3 - 0s - 12ms/step - loss: 0.0951 - val_loss: 0.0593\n",
      "Epoch 23/100\n",
      "3/3 - 0s - 13ms/step - loss: 0.0760 - val_loss: 0.0484\n",
      "Epoch 24/100\n",
      "3/3 - 0s - 13ms/step - loss: 0.0608 - val_loss: 0.0411\n",
      "Epoch 25/100\n",
      "3/3 - 0s - 12ms/step - loss: 0.0516 - val_loss: 0.0350\n",
      "Epoch 26/100\n",
      "3/3 - 0s - 13ms/step - loss: 0.0431 - val_loss: 0.0306\n",
      "Epoch 27/100\n",
      "3/3 - 0s - 12ms/step - loss: 0.0372 - val_loss: 0.0271\n",
      "Epoch 28/100\n",
      "3/3 - 0s - 12ms/step - loss: 0.0323 - val_loss: 0.0244\n",
      "Epoch 29/100\n",
      "3/3 - 0s - 13ms/step - loss: 0.0286 - val_loss: 0.0220\n",
      "Epoch 30/100\n",
      "3/3 - 0s - 12ms/step - loss: 0.0257 - val_loss: 0.0203\n",
      "Epoch 31/100\n",
      "3/3 - 0s - 14ms/step - loss: 0.0236 - val_loss: 0.0191\n",
      "Epoch 32/100\n",
      "3/3 - 0s - 13ms/step - loss: 0.0219 - val_loss: 0.0180\n",
      "Epoch 33/100\n",
      "3/3 - 0s - 13ms/step - loss: 0.0208 - val_loss: 0.0170\n",
      "Epoch 34/100\n",
      "3/3 - 0s - 12ms/step - loss: 0.0198 - val_loss: 0.0163\n",
      "Epoch 35/100\n",
      "3/3 - 0s - 13ms/step - loss: 0.0190 - val_loss: 0.0159\n",
      "Epoch 36/100\n",
      "3/3 - 0s - 12ms/step - loss: 0.0179 - val_loss: 0.0155\n",
      "Epoch 37/100\n",
      "3/3 - 0s - 12ms/step - loss: 0.0176 - val_loss: 0.0154\n",
      "Epoch 38/100\n",
      "3/3 - 0s - 12ms/step - loss: 0.0167 - val_loss: 0.0150\n",
      "Epoch 39/100\n",
      "3/3 - 0s - 12ms/step - loss: 0.0161 - val_loss: 0.0148\n",
      "Epoch 40/100\n",
      "3/3 - 0s - 12ms/step - loss: 0.0157 - val_loss: 0.0145\n",
      "Epoch 41/100\n",
      "3/3 - 0s - 13ms/step - loss: 0.0153 - val_loss: 0.0142\n",
      "Epoch 42/100\n",
      "3/3 - 0s - 13ms/step - loss: 0.0151 - val_loss: 0.0139\n",
      "Epoch 43/100\n",
      "3/3 - 0s - 14ms/step - loss: 0.0147 - val_loss: 0.0137\n",
      "Epoch 44/100\n",
      "3/3 - 0s - 13ms/step - loss: 0.0144 - val_loss: 0.0135\n",
      "Epoch 45/100\n",
      "3/3 - 0s - 13ms/step - loss: 0.0141 - val_loss: 0.0134\n",
      "Epoch 46/100\n",
      "3/3 - 0s - 12ms/step - loss: 0.0140 - val_loss: 0.0137\n",
      "Epoch 47/100\n",
      "3/3 - 0s - 12ms/step - loss: 0.0136 - val_loss: 0.0136\n",
      "Epoch 48/100\n",
      "3/3 - 0s - 12ms/step - loss: 0.0134 - val_loss: 0.0135\n",
      "Epoch 49/100\n",
      "3/3 - 0s - 12ms/step - loss: 0.0133 - val_loss: 0.0137\n",
      "Epoch 50/100\n",
      "3/3 - 0s - 12ms/step - loss: 0.0129 - val_loss: 0.0136\n",
      "Epoch 51/100\n",
      "3/3 - 0s - 12ms/step - loss: 0.0126 - val_loss: 0.0134\n",
      "Epoch 52/100\n",
      "3/3 - 0s - 13ms/step - loss: 0.0124 - val_loss: 0.0131\n",
      "Epoch 53/100\n",
      "3/3 - 0s - 12ms/step - loss: 0.0122 - val_loss: 0.0127\n",
      "Epoch 54/100\n",
      "3/3 - 0s - 13ms/step - loss: 0.0121 - val_loss: 0.0125\n",
      "Epoch 55/100\n",
      "3/3 - 0s - 12ms/step - loss: 0.0119 - val_loss: 0.0124\n",
      "Epoch 56/100\n",
      "3/3 - 0s - 12ms/step - loss: 0.0117 - val_loss: 0.0125\n",
      "Epoch 57/100\n",
      "3/3 - 0s - 12ms/step - loss: 0.0116 - val_loss: 0.0125\n",
      "Epoch 58/100\n",
      "3/3 - 0s - 12ms/step - loss: 0.0115 - val_loss: 0.0125\n",
      "Epoch 59/100\n",
      "3/3 - 0s - 18ms/step - loss: 0.0114 - val_loss: 0.0125\n",
      "Epoch 60/100\n",
      "3/3 - 0s - 12ms/step - loss: 0.0113 - val_loss: 0.0125\n",
      "Epoch 61/100\n",
      "3/3 - 0s - 12ms/step - loss: 0.0111 - val_loss: 0.0123\n",
      "Epoch 62/100\n",
      "3/3 - 0s - 12ms/step - loss: 0.0110 - val_loss: 0.0123\n",
      "Epoch 63/100\n",
      "3/3 - 0s - 12ms/step - loss: 0.0109 - val_loss: 0.0124\n",
      "Epoch 64/100\n",
      "3/3 - 0s - 12ms/step - loss: 0.0108 - val_loss: 0.0125\n",
      "Epoch 65/100\n",
      "3/3 - 0s - 12ms/step - loss: 0.0106 - val_loss: 0.0125\n",
      "Epoch 66/100\n",
      "3/3 - 0s - 14ms/step - loss: 0.0105 - val_loss: 0.0127\n",
      "Epoch 67/100\n",
      "3/3 - 0s - 14ms/step - loss: 0.0103 - val_loss: 0.0127\n",
      "Epoch 68/100\n",
      "3/3 - 0s - 13ms/step - loss: 0.0102 - val_loss: 0.0128\n",
      "Epoch 69/100\n",
      "3/3 - 0s - 13ms/step - loss: 0.0101 - val_loss: 0.0128\n",
      "Epoch 70/100\n",
      "3/3 - 0s - 13ms/step - loss: 0.0100 - val_loss: 0.0128\n",
      "Epoch 71/100\n",
      "3/3 - 0s - 12ms/step - loss: 0.0099 - val_loss: 0.0126\n",
      "Epoch 72/100\n",
      "3/3 - 0s - 12ms/step - loss: 0.0098 - val_loss: 0.0127\n",
      "Epoch 73/100\n",
      "3/3 - 0s - 12ms/step - loss: 0.0096 - val_loss: 0.0125\n",
      "Epoch 74/100\n",
      "3/3 - 0s - 12ms/step - loss: 0.0095 - val_loss: 0.0123\n",
      "Epoch 75/100\n",
      "3/3 - 0s - 12ms/step - loss: 0.0094 - val_loss: 0.0123\n",
      "Epoch 76/100\n",
      "3/3 - 0s - 12ms/step - loss: 0.0092 - val_loss: 0.0122\n",
      "Epoch 77/100\n",
      "3/3 - 0s - 12ms/step - loss: 0.0091 - val_loss: 0.0123\n",
      "Epoch 78/100\n",
      "3/3 - 0s - 12ms/step - loss: 0.0091 - val_loss: 0.0124\n",
      "Epoch 79/100\n",
      "3/3 - 0s - 12ms/step - loss: 0.0089 - val_loss: 0.0121\n",
      "Epoch 80/100\n",
      "3/3 - 0s - 12ms/step - loss: 0.0087 - val_loss: 0.0118\n",
      "Epoch 81/100\n",
      "3/3 - 0s - 12ms/step - loss: 0.0086 - val_loss: 0.0115\n",
      "Epoch 82/100\n",
      "3/3 - 0s - 12ms/step - loss: 0.0085 - val_loss: 0.0113\n",
      "Epoch 83/100\n",
      "3/3 - 0s - 12ms/step - loss: 0.0084 - val_loss: 0.0113\n",
      "Epoch 84/100\n",
      "3/3 - 0s - 12ms/step - loss: 0.0083 - val_loss: 0.0112\n",
      "Epoch 85/100\n",
      "3/3 - 0s - 13ms/step - loss: 0.0082 - val_loss: 0.0111\n",
      "Epoch 86/100\n",
      "3/3 - 0s - 12ms/step - loss: 0.0081 - val_loss: 0.0110\n",
      "Epoch 87/100\n",
      "3/3 - 0s - 13ms/step - loss: 0.0080 - val_loss: 0.0110\n",
      "Epoch 88/100\n",
      "3/3 - 0s - 13ms/step - loss: 0.0079 - val_loss: 0.0110\n",
      "Epoch 89/100\n",
      "3/3 - 0s - 12ms/step - loss: 0.0079 - val_loss: 0.0110\n",
      "Epoch 90/100\n",
      "3/3 - 0s - 12ms/step - loss: 0.0077 - val_loss: 0.0109\n",
      "Epoch 91/100\n",
      "3/3 - 0s - 13ms/step - loss: 0.0076 - val_loss: 0.0109\n",
      "Epoch 92/100\n",
      "3/3 - 0s - 12ms/step - loss: 0.0076 - val_loss: 0.0107\n",
      "Epoch 93/100\n",
      "3/3 - 0s - 12ms/step - loss: 0.0075 - val_loss: 0.0106\n",
      "Epoch 94/100\n",
      "3/3 - 0s - 13ms/step - loss: 0.0075 - val_loss: 0.0105\n",
      "Epoch 95/100\n",
      "3/3 - 0s - 12ms/step - loss: 0.0073 - val_loss: 0.0103\n",
      "Epoch 96/100\n",
      "3/3 - 0s - 12ms/step - loss: 0.0072 - val_loss: 0.0101\n",
      "Epoch 97/100\n",
      "3/3 - 0s - 12ms/step - loss: 0.0072 - val_loss: 0.0099\n",
      "Epoch 98/100\n",
      "3/3 - 0s - 12ms/step - loss: 0.0071 - val_loss: 0.0098\n",
      "Epoch 99/100\n",
      "3/3 - 0s - 12ms/step - loss: 0.0070 - val_loss: 0.0098\n",
      "Epoch 100/100\n",
      "3/3 - 0s - 12ms/step - loss: 0.0069 - val_loss: 0.0098\n"
     ]
    }
   ],
   "source": [
    "#EXERCICE 3\n",
    "# fit model\n",
    "history = model.fit(trainX, trainy, validation_data=(testX, testy), epochs=100, verbose=2)"
   ]
  },
  {
   "cell_type": "code",
   "execution_count": 48,
   "metadata": {},
   "outputs": [],
   "source": [
    "#EXERCICE 3\n",
    "# evaluate the model\n",
    "train_mse = model.evaluate(trainX, trainy, verbose=0)\n",
    "test_mse = model.evaluate(testX, testy, verbose=0)"
   ]
  },
  {
   "cell_type": "code",
   "execution_count": 49,
   "metadata": {},
   "outputs": [
    {
     "name": "stdout",
     "output_type": "stream",
     "text": [
      "Train: 0.007, Test: 0.010\n"
     ]
    },
    {
     "data": {
      "image/png": "[encoded data removed]",
      "text/plain": [
       "<Figure size 640x480 with 1 Axes>"
      ]
     },
     "metadata": {},
     "output_type": "display_data"
    }
   ],
   "source": [
    "#EXERCICE 3\n",
    "print('Train: %.3f, Test: %.3f' % (train_mse, test_mse))\n",
    "# plot loss during training\n",
    "plt.title('Loss / Mean Squared Error')\n",
    "plt.plot(history.history['loss'], 'g',label='Training loss')\n",
    "plt.plot(history.history['val_loss'], 'b', label='validation loss')\n",
    "plt.title('Learning Curves')\n",
    "plt.xlabel('Epochs')\n",
    "plt.ylabel('Loss')\n",
    "plt.legend()\n",
    "plt.show()\n"
   ]
  },
  {
   "cell_type": "code",
   "execution_count": 50,
   "metadata": {},
   "outputs": [],
   "source": [
    "# # #ESSAI 3  -----OK##################################################\n",
    "X = dataset[:,0:7]\n",
    "y = dataset[:,7]\n",
    "scalarX, scalarY = MinMaxScaler(feature_range=(0,1)), MinMaxScaler(feature_range=(0,0.75))\n",
    "scalarX.fit(X)\n",
    "scalarY.fit(y.reshape(94,1)) \n",
    "X = scalarX.transform(X)\n",
    "y=np.array(y).reshape(94,1) \n",
    "y = scalarY.transform(y) "
   ]
  },
  {
   "cell_type": "code",
   "execution_count": 55,
   "metadata": {},
   "outputs": [],
   "source": [
    "#print(y)"
   ]
  },
  {
   "cell_type": "code",
   "execution_count": 57,
   "metadata": {},
   "outputs": [
    {
     "name": "stderr",
     "output_type": "stream",
     "text": [
      "H:\\Anaconda\\Lib\\site-packages\\keras\\src\\layers\\core\\dense.py:87: UserWarning: Do not pass an `input_shape`/`input_dim` argument to a layer. When using Sequential models, prefer using an `Input(shape)` object as the first layer in the model instead.\n",
      "  super().__init__(activity_regularizer=activity_regularizer, **kwargs)\n"
     ]
    },
    {
     "data": {
      "text/html": [
       "<pre style=\"white-space:pre;overflow-x:auto;line-height:normal;font-family:Menlo,'DejaVu Sans Mono',consolas,'Courier New',monospace\"><span style=\"font-weight: bold\">Model: \"sequential_1\"</span>\n",
       "</pre>\n"
      ],
      "text/plain": [
       "\u001b[1mModel: \"sequential_1\"\u001b[0m\n"
      ]
     },
     "metadata": {},
     "output_type": "display_data"
    },
    {
     "data": {
      "text/html": [
       "<pre style=\"white-space:pre;overflow-x:auto;line-height:normal;font-family:Menlo,'DejaVu Sans Mono',consolas,'Courier New',monospace\">┏━━━━━━━━━━━━━━━━━━━━━━━━━━━━━━━━━┳━━━━━━━━━━━━━━━━━━━━━━━━┳━━━━━━━━━━━━━━━┓\n",
       "┃<span style=\"font-weight: bold\"> Layer (type)                    </span>┃<span style=\"font-weight: bold\"> Output Shape           </span>┃<span style=\"font-weight: bold\">       Param # </span>┃\n",
       "┡━━━━━━━━━━━━━━━━━━━━━━━━━━━━━━━━━╇━━━━━━━━━━━━━━━━━━━━━━━━╇━━━━━━━━━━━━━━━┩\n",
       "│ dense_2 (<span style=\"color: #0087ff; text-decoration-color: #0087ff\">Dense</span>)                 │ (<span style=\"color: #00d7ff; text-decoration-color: #00d7ff\">None</span>, <span style=\"color: #00af00; text-decoration-color: #00af00\">20</span>)             │           <span style=\"color: #00af00; text-decoration-color: #00af00\">160</span> │\n",
       "├─────────────────────────────────┼────────────────────────┼───────────────┤\n",
       "│ dense_3 (<span style=\"color: #0087ff; text-decoration-color: #0087ff\">Dense</span>)                 │ (<span style=\"color: #00d7ff; text-decoration-color: #00d7ff\">None</span>, <span style=\"color: #00af00; text-decoration-color: #00af00\">1</span>)              │            <span style=\"color: #00af00; text-decoration-color: #00af00\">21</span> │\n",
       "└─────────────────────────────────┴────────────────────────┴───────────────┘\n",
       "</pre>\n"
      ],
      "text/plain": [
       "┏━━━━━━━━━━━━━━━━━━━━━━━━━━━━━━━━━┳━━━━━━━━━━━━━━━━━━━━━━━━┳━━━━━━━━━━━━━━━┓\n",
       "┃\u001b[1m \u001b[0m\u001b[1mLayer (type)                   \u001b[0m\u001b[1m \u001b[0m┃\u001b[1m \u001b[0m\u001b[1mOutput Shape          \u001b[0m\u001b[1m \u001b[0m┃\u001b[1m \u001b[0m\u001b[1m      Param #\u001b[0m\u001b[1m \u001b[0m┃\n",
       "┡━━━━━━━━━━━━━━━━━━━━━━━━━━━━━━━━━╇━━━━━━━━━━━━━━━━━━━━━━━━╇━━━━━━━━━━━━━━━┩\n",
       "│ dense_2 (\u001b[38;5;33mDense\u001b[0m)                 │ (\u001b[38;5;45mNone\u001b[0m, \u001b[38;5;34m20\u001b[0m)             │           \u001b[38;5;34m160\u001b[0m │\n",
       "├─────────────────────────────────┼────────────────────────┼───────────────┤\n",
       "│ dense_3 (\u001b[38;5;33mDense\u001b[0m)                 │ (\u001b[38;5;45mNone\u001b[0m, \u001b[38;5;34m1\u001b[0m)              │            \u001b[38;5;34m21\u001b[0m │\n",
       "└─────────────────────────────────┴────────────────────────┴───────────────┘\n"
      ]
     },
     "metadata": {},
     "output_type": "display_data"
    },
    {
     "data": {
      "text/html": [
       "<pre style=\"white-space:pre;overflow-x:auto;line-height:normal;font-family:Menlo,'DejaVu Sans Mono',consolas,'Courier New',monospace\"><span style=\"font-weight: bold\"> Total params: </span><span style=\"color: #00af00; text-decoration-color: #00af00\">181</span> (724.00 B)\n",
       "</pre>\n"
      ],
      "text/plain": [
       "\u001b[1m Total params: \u001b[0m\u001b[38;5;34m181\u001b[0m (724.00 B)\n"
      ]
     },
     "metadata": {},
     "output_type": "display_data"
    },
    {
     "data": {
      "text/html": [
       "<pre style=\"white-space:pre;overflow-x:auto;line-height:normal;font-family:Menlo,'DejaVu Sans Mono',consolas,'Courier New',monospace\"><span style=\"font-weight: bold\"> Trainable params: </span><span style=\"color: #00af00; text-decoration-color: #00af00\">181</span> (724.00 B)\n",
       "</pre>\n"
      ],
      "text/plain": [
       "\u001b[1m Trainable params: \u001b[0m\u001b[38;5;34m181\u001b[0m (724.00 B)\n"
      ]
     },
     "metadata": {},
     "output_type": "display_data"
    },
    {
     "data": {
      "text/html": [
       "<pre style=\"white-space:pre;overflow-x:auto;line-height:normal;font-family:Menlo,'DejaVu Sans Mono',consolas,'Courier New',monospace\"><span style=\"font-weight: bold\"> Non-trainable params: </span><span style=\"color: #00af00; text-decoration-color: #00af00\">0</span> (0.00 B)\n",
       "</pre>\n"
      ],
      "text/plain": [
       "\u001b[1m Non-trainable params: \u001b[0m\u001b[38;5;34m0\u001b[0m (0.00 B)\n"
      ]
     },
     "metadata": {},
     "output_type": "display_data"
    },
    {
     "name": "stdout",
     "output_type": "stream",
     "text": [
      "None\n"
     ]
    }
   ],
   "source": [
    "# define the keras model ####OK\n",
    "model = Sequential()\n",
    "model.add(Dense(20, input_dim=7, kernel_initializer='normal', activation='relu')) #kernel_initializer='normal'\n",
    "model.add(Dense(1, kernel_initializer='normal', activation='linear')) #linear\n",
    "print(model.summary())"
   ]
  },
  {
   "cell_type": "code",
   "execution_count": 59,
   "metadata": {},
   "outputs": [
    {
     "name": "stderr",
     "output_type": "stream",
     "text": [
      "H:\\Anaconda\\Lib\\site-packages\\keras\\src\\optimizers\\base_optimizer.py:86: UserWarning: Argument `decay` is no longer supported and will be ignored.\n",
      "  warnings.warn(\n"
     ]
    }
   ],
   "source": [
    "sgd = tf.keras.optimizers.SGD(learning_rate=0.01, decay=0.0, momentum=0.7, nesterov=False) ####OK\n",
    "#adam=tf.keras.optimizers.Adam(learning_rate=0.01, beta_1=0.9, beta_2=0.999, epsilon=1e-8)\n",
    "model.compile(optimizer=sgd, loss='mean_absolute_error')"
   ]
  },
  {
   "cell_type": "code",
   "execution_count": 61,
   "metadata": {},
   "outputs": [
    {
     "name": "stdout",
     "output_type": "stream",
     "text": [
      "Epoch 1/100\n",
      "19/19 - 0s - 20ms/step - loss: 0.0799 - val_loss: 0.6099\n",
      "Epoch 2/100\n",
      "19/19 - 0s - 3ms/step - loss: 0.0818 - val_loss: 0.6386\n",
      "Epoch 3/100\n",
      "19/19 - 0s - 2ms/step - loss: 0.0767 - val_loss: 0.6215\n",
      "Epoch 4/100\n",
      "19/19 - 0s - 2ms/step - loss: 0.0759 - val_loss: 0.6283\n",
      "Epoch 5/100\n",
      "19/19 - 0s - 2ms/step - loss: 0.0763 - val_loss: 0.6411\n",
      "Epoch 6/100\n",
      "19/19 - 0s - 2ms/step - loss: 0.0755 - val_loss: 0.6225\n",
      "Epoch 7/100\n",
      "19/19 - 0s - 2ms/step - loss: 0.0737 - val_loss: 0.6274\n",
      "Epoch 8/100\n",
      "19/19 - 0s - 2ms/step - loss: 0.0745 - val_loss: 0.6282\n",
      "Epoch 9/100\n",
      "19/19 - 0s - 2ms/step - loss: 0.0723 - val_loss: 0.6129\n",
      "Epoch 10/100\n",
      "19/19 - 0s - 3ms/step - loss: 0.0732 - val_loss: 0.5999\n",
      "Epoch 11/100\n",
      "19/19 - 0s - 2ms/step - loss: 0.0708 - val_loss: 0.5740\n",
      "Epoch 12/100\n",
      "19/19 - 0s - 2ms/step - loss: 0.0732 - val_loss: 0.5894\n",
      "Epoch 13/100\n",
      "19/19 - 0s - 2ms/step - loss: 0.0706 - val_loss: 0.5830\n",
      "Epoch 14/100\n",
      "19/19 - 0s - 2ms/step - loss: 0.0695 - val_loss: 0.5799\n",
      "Epoch 15/100\n",
      "19/19 - 0s - 2ms/step - loss: 0.0683 - val_loss: 0.5396\n",
      "Epoch 16/100\n",
      "19/19 - 0s - 3ms/step - loss: 0.0679 - val_loss: 0.5270\n",
      "Epoch 17/100\n",
      "19/19 - 0s - 3ms/step - loss: 0.0669 - val_loss: 0.5082\n",
      "Epoch 18/100\n",
      "19/19 - 0s - 2ms/step - loss: 0.0654 - val_loss: 0.4925\n",
      "Epoch 19/100\n",
      "19/19 - 0s - 2ms/step - loss: 0.0651 - val_loss: 0.5375\n",
      "Epoch 20/100\n",
      "19/19 - 0s - 2ms/step - loss: 0.0651 - val_loss: 0.4765\n",
      "Epoch 21/100\n",
      "19/19 - 0s - 2ms/step - loss: 0.0644 - val_loss: 0.5097\n",
      "Epoch 22/100\n",
      "19/19 - 0s - 2ms/step - loss: 0.0597 - val_loss: 0.4936\n",
      "Epoch 23/100\n",
      "19/19 - 0s - 2ms/step - loss: 0.0596 - val_loss: 0.4782\n",
      "Epoch 24/100\n",
      "19/19 - 0s - 2ms/step - loss: 0.0563 - val_loss: 0.4749\n",
      "Epoch 25/100\n",
      "19/19 - 0s - 2ms/step - loss: 0.0559 - val_loss: 0.4791\n",
      "Epoch 26/100\n",
      "19/19 - 0s - 2ms/step - loss: 0.0559 - val_loss: 0.4741\n",
      "Epoch 27/100\n",
      "19/19 - 0s - 2ms/step - loss: 0.0550 - val_loss: 0.4787\n",
      "Epoch 28/100\n",
      "19/19 - 0s - 2ms/step - loss: 0.0541 - val_loss: 0.4225\n",
      "Epoch 29/100\n",
      "19/19 - 0s - 2ms/step - loss: 0.0487 - val_loss: 0.4445\n",
      "Epoch 30/100\n",
      "19/19 - 0s - 2ms/step - loss: 0.0523 - val_loss: 0.4218\n",
      "Epoch 31/100\n",
      "19/19 - 0s - 3ms/step - loss: 0.0500 - val_loss: 0.3700\n",
      "Epoch 32/100\n",
      "19/19 - 0s - 2ms/step - loss: 0.0487 - val_loss: 0.3598\n",
      "Epoch 33/100\n",
      "19/19 - 0s - 3ms/step - loss: 0.0505 - val_loss: 0.3470\n",
      "Epoch 34/100\n",
      "19/19 - 0s - 2ms/step - loss: 0.0438 - val_loss: 0.3736\n",
      "Epoch 35/100\n",
      "19/19 - 0s - 2ms/step - loss: 0.0417 - val_loss: 0.3710\n",
      "Epoch 36/100\n",
      "19/19 - 0s - 2ms/step - loss: 0.0400 - val_loss: 0.3833\n",
      "Epoch 37/100\n",
      "19/19 - 0s - 2ms/step - loss: 0.0430 - val_loss: 0.3523\n",
      "Epoch 38/100\n",
      "19/19 - 0s - 2ms/step - loss: 0.0396 - val_loss: 0.3138\n",
      "Epoch 39/100\n",
      "19/19 - 0s - 2ms/step - loss: 0.0360 - val_loss: 0.2945\n",
      "Epoch 40/100\n",
      "19/19 - 0s - 2ms/step - loss: 0.0396 - val_loss: 0.3301\n",
      "Epoch 41/100\n",
      "19/19 - 0s - 2ms/step - loss: 0.0369 - val_loss: 0.2879\n",
      "Epoch 42/100\n",
      "19/19 - 0s - 2ms/step - loss: 0.0390 - val_loss: 0.2600\n",
      "Epoch 43/100\n",
      "19/19 - 0s - 2ms/step - loss: 0.0356 - val_loss: 0.2937\n",
      "Epoch 44/100\n",
      "19/19 - 0s - 3ms/step - loss: 0.0438 - val_loss: 0.2654\n",
      "Epoch 45/100\n",
      "19/19 - 0s - 2ms/step - loss: 0.0366 - val_loss: 0.2310\n",
      "Epoch 46/100\n",
      "19/19 - 0s - 2ms/step - loss: 0.0343 - val_loss: 0.2513\n",
      "Epoch 47/100\n",
      "19/19 - 0s - 2ms/step - loss: 0.0313 - val_loss: 0.2247\n",
      "Epoch 48/100\n",
      "19/19 - 0s - 2ms/step - loss: 0.0326 - val_loss: 0.2189\n",
      "Epoch 49/100\n",
      "19/19 - 0s - 2ms/step - loss: 0.0373 - val_loss: 0.2259\n",
      "Epoch 50/100\n",
      "19/19 - 0s - 2ms/step - loss: 0.0275 - val_loss: 0.2051\n",
      "Epoch 51/100\n",
      "19/19 - 0s - 2ms/step - loss: 0.0315 - val_loss: 0.1759\n",
      "Epoch 52/100\n",
      "19/19 - 0s - 2ms/step - loss: 0.0284 - val_loss: 0.2303\n",
      "Epoch 53/100\n",
      "19/19 - 0s - 2ms/step - loss: 0.0236 - val_loss: 0.1821\n",
      "Epoch 54/100\n",
      "19/19 - 0s - 2ms/step - loss: 0.0304 - val_loss: 0.1654\n",
      "Epoch 55/100\n",
      "19/19 - 0s - 2ms/step - loss: 0.0304 - val_loss: 0.2006\n",
      "Epoch 56/100\n",
      "19/19 - 0s - 3ms/step - loss: 0.0304 - val_loss: 0.1112\n",
      "Epoch 57/100\n",
      "19/19 - 0s - 2ms/step - loss: 0.0223 - val_loss: 0.1757\n",
      "Epoch 58/100\n",
      "19/19 - 0s - 2ms/step - loss: 0.0296 - val_loss: 0.1650\n",
      "Epoch 59/100\n",
      "19/19 - 0s - 2ms/step - loss: 0.0222 - val_loss: 0.1407\n",
      "Epoch 60/100\n",
      "19/19 - 0s - 2ms/step - loss: 0.0260 - val_loss: 0.1155\n",
      "Epoch 61/100\n",
      "19/19 - 0s - 2ms/step - loss: 0.0307 - val_loss: 0.1663\n",
      "Epoch 62/100\n",
      "19/19 - 0s - 2ms/step - loss: 0.0208 - val_loss: 0.1370\n",
      "Epoch 63/100\n",
      "19/19 - 0s - 2ms/step - loss: 0.0236 - val_loss: 0.1541\n",
      "Epoch 64/100\n",
      "19/19 - 0s - 2ms/step - loss: 0.0240 - val_loss: 0.1600\n",
      "Epoch 65/100\n",
      "19/19 - 0s - 2ms/step - loss: 0.0252 - val_loss: 0.1653\n",
      "Epoch 66/100\n",
      "19/19 - 0s - 2ms/step - loss: 0.0218 - val_loss: 0.1301\n",
      "Epoch 67/100\n",
      "19/19 - 0s - 2ms/step - loss: 0.0226 - val_loss: 0.1253\n",
      "Epoch 68/100\n",
      "19/19 - 0s - 2ms/step - loss: 0.0264 - val_loss: 0.1286\n",
      "Epoch 69/100\n",
      "19/19 - 0s - 2ms/step - loss: 0.0220 - val_loss: 0.0989\n",
      "Epoch 70/100\n",
      "19/19 - 0s - 2ms/step - loss: 0.0243 - val_loss: 0.1242\n",
      "Epoch 71/100\n",
      "19/19 - 0s - 2ms/step - loss: 0.0250 - val_loss: 0.0655\n",
      "Epoch 72/100\n",
      "19/19 - 0s - 2ms/step - loss: 0.0217 - val_loss: 0.1059\n",
      "Epoch 73/100\n",
      "19/19 - 0s - 2ms/step - loss: 0.0184 - val_loss: 0.0931\n",
      "Epoch 74/100\n",
      "19/19 - 0s - 2ms/step - loss: 0.0259 - val_loss: 0.0893\n",
      "Epoch 75/100\n",
      "19/19 - 0s - 2ms/step - loss: 0.0262 - val_loss: 0.0886\n",
      "Epoch 76/100\n",
      "19/19 - 0s - 2ms/step - loss: 0.0250 - val_loss: 0.0867\n",
      "Epoch 77/100\n",
      "19/19 - 0s - 2ms/step - loss: 0.0194 - val_loss: 0.0485\n",
      "Epoch 78/100\n",
      "19/19 - 0s - 3ms/step - loss: 0.0223 - val_loss: 0.0924\n",
      "Epoch 79/100\n",
      "19/19 - 0s - 2ms/step - loss: 0.0203 - val_loss: 0.0781\n",
      "Epoch 80/100\n",
      "19/19 - 0s - 2ms/step - loss: 0.0214 - val_loss: 0.0678\n",
      "Epoch 81/100\n",
      "19/19 - 0s - 2ms/step - loss: 0.0181 - val_loss: 0.0349\n",
      "Epoch 82/100\n",
      "19/19 - 0s - 2ms/step - loss: 0.0242 - val_loss: 0.0684\n",
      "Epoch 83/100\n",
      "19/19 - 0s - 2ms/step - loss: 0.0194 - val_loss: 0.0518\n",
      "Epoch 84/100\n",
      "19/19 - 0s - 2ms/step - loss: 0.0182 - val_loss: 0.0671\n",
      "Epoch 85/100\n",
      "19/19 - 0s - 2ms/step - loss: 0.0205 - val_loss: 0.1173\n",
      "Epoch 86/100\n",
      "19/19 - 0s - 2ms/step - loss: 0.0224 - val_loss: 0.0623\n",
      "Epoch 87/100\n",
      "19/19 - 0s - 2ms/step - loss: 0.0197 - val_loss: 0.0809\n",
      "Epoch 88/100\n",
      "19/19 - 0s - 2ms/step - loss: 0.0195 - val_loss: 0.0513\n",
      "Epoch 89/100\n",
      "19/19 - 0s - 2ms/step - loss: 0.0207 - val_loss: 0.0246\n",
      "Epoch 90/100\n",
      "19/19 - 0s - 2ms/step - loss: 0.0222 - val_loss: 0.0585\n",
      "Epoch 91/100\n",
      "19/19 - 0s - 2ms/step - loss: 0.0180 - val_loss: 0.0791\n",
      "Epoch 92/100\n",
      "19/19 - 0s - 2ms/step - loss: 0.0131 - val_loss: 0.0415\n",
      "Epoch 93/100\n",
      "19/19 - 0s - 2ms/step - loss: 0.0184 - val_loss: 0.0640\n",
      "Epoch 94/100\n",
      "19/19 - 0s - 2ms/step - loss: 0.0153 - val_loss: 0.0242\n",
      "Epoch 95/100\n",
      "19/19 - 0s - 2ms/step - loss: 0.0183 - val_loss: 0.0763\n",
      "Epoch 96/100\n",
      "19/19 - 0s - 2ms/step - loss: 0.0192 - val_loss: 0.0582\n",
      "Epoch 97/100\n",
      "19/19 - 0s - 2ms/step - loss: 0.0165 - val_loss: 0.0161\n",
      "Epoch 98/100\n",
      "19/19 - 0s - 2ms/step - loss: 0.0210 - val_loss: 0.0765\n",
      "Epoch 99/100\n",
      "19/19 - 0s - 2ms/step - loss: 0.0167 - val_loss: 0.0688\n",
      "Epoch 100/100\n",
      "19/19 - 0s - 2ms/step - loss: 0.0191 - val_loss: 0.0894\n"
     ]
    }
   ],
   "source": [
    "# fit the keras model on the dataset REAL DATA\n",
    "history = model.fit(X, y, epochs=100, batch_size=4, verbose=2, validation_split=0.20)"
   ]
  },
  {
   "cell_type": "code",
   "execution_count": 62,
   "metadata": {},
   "outputs": [
    {
     "name": "stdout",
     "output_type": "stream",
     "text": [
      "\u001b[1m3/3\u001b[0m \u001b[32m━━━━━━━━━━━━━━━━━━━━\u001b[0m\u001b[37m\u001b[0m \u001b[1m0s\u001b[0m 9ms/step \n",
      "MAE: 0.04645\n"
     ]
    }
   ],
   "source": [
    "# evaluate on test set\n",
    "yhat = model.predict(X)\n",
    "error = mean_absolute_error(y, yhat)\n",
    "print('MAE: %.5f' % error)\n"
   ]
  },
  {
   "cell_type": "code",
   "execution_count": 65,
   "metadata": {},
   "outputs": [],
   "source": [
    "#print(yhat) "
   ]
  },
  {
   "cell_type": "code",
   "execution_count": 67,
   "metadata": {},
   "outputs": [],
   "source": [
    "#print(y)"
   ]
  },
  {
   "cell_type": "code",
   "execution_count": 69,
   "metadata": {},
   "outputs": [],
   "source": [
    "###plt.plot(y)"
   ]
  },
  {
   "cell_type": "code",
   "execution_count": 71,
   "metadata": {},
   "outputs": [],
   "source": [
    "####plt.plot(yhat)"
   ]
  },
  {
   "cell_type": "code",
   "execution_count": 73,
   "metadata": {},
   "outputs": [],
   "source": [
    "#####print(yhat-y) "
   ]
  },
  {
   "cell_type": "code",
   "execution_count": 75,
   "metadata": {},
   "outputs": [
    {
     "name": "stdout",
     "output_type": "stream",
     "text": [
      "dict_keys(['loss', 'val_loss'])\n"
     ]
    }
   ],
   "source": [
    "print(history.history.keys())"
   ]
  },
  {
   "cell_type": "code",
   "execution_count": 77,
   "metadata": {},
   "outputs": [
    {
     "data": {
      "image/png": "[encoded data removed]",
      "text/plain": [
       "<Figure size 640x480 with 1 Axes>"
      ]
     },
     "metadata": {},
     "output_type": "display_data"
    }
   ],
   "source": [
    "loss_train = history.history['loss']\n",
    "loss_val = history.history['val_loss']\n",
    "epochs = range(1,101)\n",
    "plt.plot(epochs, loss_train, 'g', label='Training loss')\n",
    "plt.plot(epochs, loss_val, 'b', label='validation loss')\n",
    "plt.title('Training and Validation loss')\n",
    "plt.xlabel('Epochs')\n",
    "plt.ylabel('Loss')\n",
    "plt.legend()\n",
    "plt.show()"
   ]
  },
  {
   "cell_type": "code",
   "execution_count": null,
   "metadata": {},
   "outputs": [],
   "source": []
  },
  {
   "cell_type": "code",
   "execution_count": null,
   "metadata": {},
   "outputs": [],
   "source": []
  }
 ],
 "metadata": {
  "kernelspec": {
   "display_name": "Python 3 (ipykernel)",
   "language": "python",
   "name": "python3"
  },
  "language_info": {
   "codemirror_mode": {
    "name": "ipython",
    "version": 3
   },
   "file_extension": ".py",
   "mimetype": "text/x-python",
   "name": "python",
   "nbconvert_exporter": "python",
   "pygments_lexer": "ipython3",
   "version": "3.12.7"
  }
 },
 "nbformat": 4,
 "nbformat_minor": 4
}
